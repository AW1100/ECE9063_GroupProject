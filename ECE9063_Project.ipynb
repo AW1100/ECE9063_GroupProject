{
 "cells": [
  {
   "cell_type": "markdown",
   "id": "6b0afd1e-76a7-4f33-8ee6-1656d803d7b7",
   "metadata": {},
   "source": [
    "# ECE9063 Project"
   ]
  },
  {
   "cell_type": "markdown",
   "id": "48fb0b8f-8d67-4db5-a47b-61d123cfbc24",
   "metadata": {},
   "source": [
    "Hyperparameters\n",
    "-\n",
    "- number of features extraction layers\n",
    "- number of filters\n",
    "- filter size\n",
    "- dense layer units\n",
    "- batch size\n",
    "- learning rate\n",
    "- epochs\n",
    "- kernel regularizer\n",
    "- dropout"
   ]
  },
  {
   "cell_type": "code",
   "execution_count": 2,
   "id": "3c995f9b-8a45-4896-a48d-a5938450b75f",
   "metadata": {},
   "outputs": [],
   "source": [
    "import tensorflow as tf\n",
    "from tensorflow.keras.models import Sequential\n",
    "from tensorflow.keras.layers import Conv2D, MaxPooling2D, Flatten, Dense\n",
    "from tensorflow.keras.callbacks import EarlyStopping\n",
    "from tensorflow.keras.optimizers import Adam\n",
    "\n",
    "import os\n",
    "from PIL import Image\n",
    "import numpy as np\n",
    "from sklearn.model_selection import train_test_split\n",
    "import matplotlib.pyplot as plt"
   ]
  },
  {
   "cell_type": "markdown",
   "id": "87140403-f83e-435e-abcf-5b9ad2a1c8d7",
   "metadata": {},
   "source": [
    "Cropped head image 50x50x3"
   ]
  },
  {
   "cell_type": "code",
   "execution_count": 3,
   "id": "8847954c-ac90-4884-af78-09c4b7399b8e",
   "metadata": {},
   "outputs": [],
   "source": [
    "folder_path = 'Data/images/cropped_50'\n",
    "image_size = (50, 50)"
   ]
  },
  {
   "cell_type": "code",
   "execution_count": 4,
   "id": "e889aeb5-2d4e-4f9d-b3b9-c802c14d6755",
   "metadata": {},
   "outputs": [],
   "source": [
    "def load_data_from_folder(folder):\n",
    "    images = []\n",
    "    labels = []\n",
    "    for filename in os.listdir(folder):\n",
    "        img_path = os.path.join(folder, filename)\n",
    "        img = tf.keras.preprocessing.image.load_img(img_path, target_size=image_size)\n",
    "        img_array = tf.keras.preprocessing.image.img_to_array(img)\n",
    "        label = 1 if filename.endswith('T.png') else 0  # 1 for 'T' (with helmet), 0 for 'F' (without helmet)\n",
    "        images.append(img_array)\n",
    "        labels.append(label)\n",
    "    return np.array(images), np.array(labels)"
   ]
  },
  {
   "cell_type": "code",
   "execution_count": 5,
   "id": "8033d20d-06a2-44d6-ac8f-b958a1faec1a",
   "metadata": {},
   "outputs": [],
   "source": [
    "images, labels = load_data_from_folder(folder_path)\n",
    "\n",
    "X_train, X_test, y_train, y_test = train_test_split(\n",
    "    images, labels, test_size=0.2, random_state=42\n",
    ")"
   ]
  },
  {
   "cell_type": "code",
   "execution_count": 6,
   "id": "7f764d1e-4803-4879-b267-7075f6c158f6",
   "metadata": {},
   "outputs": [
    {
     "name": "stdout",
     "output_type": "stream",
     "text": [
      "(556, 50, 50, 3)\n",
      "(140, 50, 50, 3)\n"
     ]
    }
   ],
   "source": [
    "print(X_train.shape)\n",
    "print(X_test.shape)"
   ]
  },
  {
   "cell_type": "code",
   "execution_count": 6,
   "id": "8c8bf62d-d163-45e9-8a6f-34b3a390872d",
   "metadata": {},
   "outputs": [],
   "source": [
    "model = Sequential()\n",
    "model.add(Conv2D(16, (5, 5), activation='relu', input_shape=(50, 50, 3)))\n",
    "model.add(MaxPooling2D((2, 2)))\n",
    "model.add(Conv2D(128, (5, 5), activation='relu'))\n",
    "model.add(MaxPooling2D((2, 2)))\n",
    "model.add(Conv2D(128, (5, 5), activation='relu'))\n",
    "model.add(Flatten())\n",
    "model.add(Dense(64, activation='relu'))\n",
    "model.add(Dense(1, activation='sigmoid'))"
   ]
  },
  {
   "cell_type": "code",
   "execution_count": 7,
   "id": "4fd8b9fc-57e7-41fb-aa08-7b3d4435d22b",
   "metadata": {},
   "outputs": [],
   "source": [
    "early_stopping = EarlyStopping(monitor='val_loss', patience=3, restore_best_weights=True)"
   ]
  },
  {
   "cell_type": "code",
   "execution_count": 8,
   "id": "4634fb74-2b76-427d-ab94-11ec9d6b7daa",
   "metadata": {},
   "outputs": [
    {
     "name": "stdout",
     "output_type": "stream",
     "text": [
      "Epoch 1/50\n",
      "18/18 [==============================] - 2s 83ms/step - loss: 10.7061 - accuracy: 0.6727 - val_loss: 0.8937 - val_accuracy: 0.7857\n",
      "Epoch 2/50\n",
      "18/18 [==============================] - 1s 70ms/step - loss: 0.4981 - accuracy: 0.8040 - val_loss: 0.4187 - val_accuracy: 0.7857\n",
      "Epoch 3/50\n",
      "18/18 [==============================] - 1s 71ms/step - loss: 0.3661 - accuracy: 0.8219 - val_loss: 0.3800 - val_accuracy: 0.8571\n",
      "Epoch 4/50\n",
      "18/18 [==============================] - 1s 78ms/step - loss: 0.3152 - accuracy: 0.8615 - val_loss: 0.3877 - val_accuracy: 0.8000\n",
      "Epoch 5/50\n",
      "18/18 [==============================] - 1s 73ms/step - loss: 0.2897 - accuracy: 0.8579 - val_loss: 0.3427 - val_accuracy: 0.8857\n",
      "Epoch 6/50\n",
      "18/18 [==============================] - 1s 78ms/step - loss: 0.1801 - accuracy: 0.9353 - val_loss: 0.2631 - val_accuracy: 0.8857\n",
      "Epoch 7/50\n",
      "18/18 [==============================] - 1s 82ms/step - loss: 0.1084 - accuracy: 0.9586 - val_loss: 0.2599 - val_accuracy: 0.8929\n",
      "Epoch 8/50\n",
      "18/18 [==============================] - 1s 72ms/step - loss: 0.0956 - accuracy: 0.9622 - val_loss: 0.3065 - val_accuracy: 0.9071\n",
      "Epoch 9/50\n",
      "18/18 [==============================] - 1s 73ms/step - loss: 0.0433 - accuracy: 0.9892 - val_loss: 0.3320 - val_accuracy: 0.9071\n",
      "Epoch 10/50\n",
      "18/18 [==============================] - 1s 72ms/step - loss: 0.0274 - accuracy: 0.9946 - val_loss: 0.5344 - val_accuracy: 0.8714\n",
      "5/5 [==============================] - 0s 17ms/step - loss: 0.2599 - accuracy: 0.8929\n",
      "Test Accuracy: 89.29%\n"
     ]
    }
   ],
   "source": [
    "model.compile(optimizer=Adam(learning_rate=0.001), loss='binary_crossentropy', metrics=['accuracy'])\n",
    "\n",
    "history = model.fit(X_train, y_train, epochs=50, validation_data=(X_test, y_test), callbacks=[early_stopping])\n",
    "\n",
    "test_loss, test_accuracy = model.evaluate(X_test, y_test)\n",
    "print(f\"Test Accuracy: {test_accuracy * 100:.2f}%\")\n",
    "\n",
    "model.save('helmet_detection_model.keras')"
   ]
  },
  {
   "cell_type": "code",
   "execution_count": 9,
   "id": "595effbf-0344-4104-b418-b65b57f5408d",
   "metadata": {},
   "outputs": [
    {
     "data": {
      "image/png": "[encoded data removed]",
      "text/plain": [
       "<Figure size 640x480 with 1 Axes>"
      ]
     },
     "metadata": {},
     "output_type": "display_data"
    }
   ],
   "source": [
    "plt.plot(history.history['loss'], label='Training Loss')\n",
    "plt.plot(history.history['val_loss'], label='Validation Loss')\n",
    "plt.title('Training and Validation Loss')\n",
    "plt.xlabel('Epoch')\n",
    "plt.ylabel('Loss')\n",
    "plt.legend()\n",
    "plt.show()"
   ]
  },
  {
   "cell_type": "markdown",
   "id": "e26e2ad3-186a-420a-bb6a-5483db3b6962",
   "metadata": {},
   "source": [
    "## Auto Hyperparameter tuning"
   ]
  },
  {
   "cell_type": "code",
   "execution_count": 8,
   "id": "232ba37a-d23d-4cc3-8e1d-6340110107e5",
   "metadata": {},
   "outputs": [
    {
     "name": "stderr",
     "output_type": "stream",
     "text": [
      "C:\\Users\\WHR\\AppData\\Local\\Programs\\Python\\Python311\\Lib\\site-packages\\tqdm\\auto.py:21: TqdmWarning: IProgress not found. Please update jupyter and ipywidgets. See https://ipywidgets.readthedocs.io/en/stable/user_install.html\n",
      "  from .autonotebook import tqdm as notebook_tqdm\n"
     ]
    }
   ],
   "source": [
    "import optuna"
   ]
  },
  {
   "cell_type": "code",
   "execution_count": 11,
   "id": "2e6ac78b-a8e0-4f92-a434-11bc7ef6a7c7",
   "metadata": {},
   "outputs": [],
   "source": [
    "def create_cnn_model(trial):\n",
    "    model = Sequential()\n",
    "    model.add(Conv2D(filters=trial.suggest_int('fileters',16,128,log=True), kernel_size=(5,5), activation='relu', input_shape=(50, 50, 3)))\n",
    "    model.add(MaxPooling2D((2, 2)))\n",
    "    model.add(Conv2D(filters=trial.suggest_int('fileters',16,128,log=True), kernel_size=(5,5), activation='relu'))\n",
    "    model.add(MaxPooling2D((2, 2)))\n",
    "    model.add(Conv2D(filters=trial.suggest_int('fileters',16,128,log=True), kernel_size=(5,5), activation='relu'))\n",
    "    model.add(Flatten())\n",
    "    model.add(Dense(units=trial.suggest_int('units',32,256,log=True), activation='relu'))\n",
    "    model.add(Dense(1, activation='sigmoid'))\n",
    "\n",
    "    model.compile(optimizer=Adam(learning_rate=0.001), loss='binary_crossentropy', metrics=['accuracy'])\n",
    "    \n",
    "    return model"
   ]
  },
  {
   "cell_type": "code",
   "execution_count": 12,
   "id": "01568283-6c0d-437c-8912-430090880267",
   "metadata": {},
   "outputs": [],
   "source": [
    "def objective(trial):\n",
    "    model = create_cnn_model(trial)\n",
    "    model.fit(X_train, y_train, epochs=50, validation_data=(X_test, y_test), callbacks=[early_stopping], verbose=0)\n",
    "    score = model.evaluate(X_test,y_test,verbose=0)\n",
    "    return score[1]"
   ]
  },
  {
   "cell_type": "code",
   "execution_count": 14,
   "id": "a26cbd5d-74b0-4b61-a088-594e6dc731c5",
   "metadata": {},
   "outputs": [
    {
     "name": "stderr",
     "output_type": "stream",
     "text": [
      "[I 2023-11-18 21:09:34,574] A new study created in memory with name: no-name-7f31b156-4d81-42a9-ae0d-be9611deea76\n",
      "[I 2023-11-18 21:10:30,663] Trial 0 finished with value: 0.8857142925262451 and parameters: {'fileters': 95, 'units': 107}. Best is trial 0 with value: 0.8857142925262451.\n",
      "[I 2023-11-18 21:10:39,478] Trial 1 finished with value: 0.8500000238418579 and parameters: {'fileters': 33, 'units': 71}. Best is trial 0 with value: 0.8857142925262451.\n",
      "[I 2023-11-18 21:10:52,190] Trial 2 finished with value: 0.9071428775787354 and parameters: {'fileters': 53, 'units': 36}. Best is trial 2 with value: 0.9071428775787354.\n",
      "[I 2023-11-18 21:11:14,976] Trial 3 finished with value: 0.8857142925262451 and parameters: {'fileters': 89, 'units': 222}. Best is trial 2 with value: 0.9071428775787354.\n",
      "[I 2023-11-18 21:11:24,658] Trial 4 finished with value: 0.8785714507102966 and parameters: {'fileters': 29, 'units': 32}. Best is trial 2 with value: 0.9071428775787354.\n",
      "[I 2023-11-18 21:11:39,146] Trial 5 finished with value: 0.8999999761581421 and parameters: {'fileters': 45, 'units': 60}. Best is trial 2 with value: 0.9071428775787354.\n",
      "[I 2023-11-18 21:11:52,338] Trial 6 finished with value: 0.8357142806053162 and parameters: {'fileters': 63, 'units': 36}. Best is trial 2 with value: 0.9071428775787354.\n",
      "[I 2023-11-18 21:12:03,319] Trial 7 finished with value: 0.8785714507102966 and parameters: {'fileters': 47, 'units': 75}. Best is trial 2 with value: 0.9071428775787354.\n",
      "[I 2023-11-18 21:12:27,160] Trial 8 finished with value: 0.8642857074737549 and parameters: {'fileters': 61, 'units': 49}. Best is trial 2 with value: 0.9071428775787354.\n",
      "[I 2023-11-18 21:12:42,934] Trial 9 finished with value: 0.8785714507102966 and parameters: {'fileters': 34, 'units': 120}. Best is trial 2 with value: 0.9071428775787354.\n",
      "[I 2023-11-18 21:12:49,035] Trial 10 finished with value: 0.8571428656578064 and parameters: {'fileters': 21, 'units': 50}. Best is trial 2 with value: 0.9071428775787354.\n",
      "[I 2023-11-18 21:13:04,842] Trial 11 finished with value: 0.8928571343421936 and parameters: {'fileters': 50, 'units': 47}. Best is trial 2 with value: 0.9071428775787354.\n",
      "[I 2023-11-18 21:14:07,895] Trial 12 finished with value: 0.9142857193946838 and parameters: {'fileters': 116, 'units': 33}. Best is trial 12 with value: 0.9142857193946838.\n",
      "[I 2023-11-18 21:15:02,024] Trial 13 finished with value: 0.8571428656578064 and parameters: {'fileters': 123, 'units': 32}. Best is trial 12 with value: 0.9142857193946838.\n",
      "[I 2023-11-18 21:15:17,161] Trial 14 finished with value: 0.8857142925262451 and parameters: {'fileters': 85, 'units': 40}. Best is trial 12 with value: 0.9142857193946838.\n",
      "[I 2023-11-18 21:16:21,151] Trial 15 finished with value: 0.9071428775787354 and parameters: {'fileters': 123, 'units': 41}. Best is trial 12 with value: 0.9142857193946838.\n",
      "[I 2023-11-18 21:16:54,374] Trial 16 finished with value: 0.9214285612106323 and parameters: {'fileters': 69, 'units': 54}. Best is trial 16 with value: 0.9214285612106323.\n",
      "[I 2023-11-18 21:17:07,364] Trial 17 finished with value: 0.9142857193946838 and parameters: {'fileters': 75, 'units': 56}. Best is trial 16 with value: 0.9214285612106323.\n",
      "[I 2023-11-18 21:17:34,021] Trial 18 finished with value: 0.8642857074737549 and parameters: {'fileters': 101, 'units': 42}. Best is trial 16 with value: 0.9214285612106323.\n",
      "[I 2023-11-18 21:18:11,850] Trial 19 finished with value: 0.8928571343421936 and parameters: {'fileters': 72, 'units': 66}. Best is trial 16 with value: 0.9214285612106323.\n",
      "[I 2023-11-18 21:18:52,070] Trial 20 finished with value: 0.8999999761581421 and parameters: {'fileters': 108, 'units': 53}. Best is trial 16 with value: 0.9214285612106323.\n",
      "[I 2023-11-18 21:19:23,511] Trial 21 finished with value: 0.9071428775787354 and parameters: {'fileters': 76, 'units': 58}. Best is trial 16 with value: 0.9214285612106323.\n",
      "[I 2023-11-18 21:19:52,676] Trial 22 finished with value: 0.8999999761581421 and parameters: {'fileters': 73, 'units': 45}. Best is trial 16 with value: 0.9214285612106323.\n",
      "[I 2023-11-18 21:20:21,977] Trial 23 finished with value: 0.9357143044471741 and parameters: {'fileters': 85, 'units': 58}. Best is trial 23 with value: 0.9357143044471741.\n",
      "[I 2023-11-18 21:20:47,359] Trial 24 finished with value: 0.8785714507102966 and parameters: {'fileters': 107, 'units': 70}. Best is trial 23 with value: 0.9357143044471741.\n",
      "[I 2023-11-18 21:21:15,771] Trial 25 finished with value: 0.8785714507102966 and parameters: {'fileters': 90, 'units': 40}. Best is trial 23 with value: 0.9357143044471741.\n",
      "[I 2023-11-18 21:21:55,964] Trial 26 finished with value: 0.8999999761581421 and parameters: {'fileters': 128, 'units': 77}. Best is trial 23 with value: 0.9357143044471741.\n",
      "[I 2023-11-18 21:22:14,991] Trial 27 finished with value: 0.8857142925262451 and parameters: {'fileters': 60, 'units': 85}. Best is trial 23 with value: 0.9357143044471741.\n",
      "[I 2023-11-18 21:22:56,914] Trial 28 finished with value: 0.8785714507102966 and parameters: {'fileters': 101, 'units': 61}. Best is trial 23 with value: 0.9357143044471741.\n",
      "[I 2023-11-18 21:23:23,188] Trial 29 finished with value: 0.8999999761581421 and parameters: {'fileters': 85, 'units': 99}. Best is trial 23 with value: 0.9357143044471741.\n",
      "[I 2023-11-18 21:23:53,670] Trial 30 finished with value: 0.9071428775787354 and parameters: {'fileters': 95, 'units': 52}. Best is trial 23 with value: 0.9357143044471741.\n",
      "[I 2023-11-18 21:24:16,460] Trial 31 finished with value: 0.9142857193946838 and parameters: {'fileters': 74, 'units': 54}. Best is trial 23 with value: 0.9357143044471741.\n",
      "[I 2023-11-18 21:24:55,591] Trial 32 finished with value: 0.8999999761581421 and parameters: {'fileters': 83, 'units': 64}. Best is trial 23 with value: 0.9357143044471741.\n",
      "[I 2023-11-18 21:25:21,520] Trial 33 finished with value: 0.8928571343421936 and parameters: {'fileters': 63, 'units': 45}. Best is trial 23 with value: 0.9357143044471741.\n",
      "[I 2023-11-18 21:25:55,654] Trial 34 finished with value: 0.8928571343421936 and parameters: {'fileters': 108, 'units': 36}. Best is trial 23 with value: 0.9357143044471741.\n",
      "[I 2023-11-18 21:26:15,234] Trial 35 finished with value: 0.8928571343421936 and parameters: {'fileters': 55, 'units': 56}. Best is trial 23 with value: 0.9357143044471741.\n",
      "[I 2023-11-18 21:26:39,140] Trial 36 finished with value: 0.9071428775787354 and parameters: {'fileters': 69, 'units': 65}. Best is trial 23 with value: 0.9357143044471741.\n",
      "[I 2023-11-18 21:27:06,752] Trial 37 finished with value: 0.8857142925262451 and parameters: {'fileters': 80, 'units': 32}. Best is trial 23 with value: 0.9357143044471741.\n",
      "[I 2023-11-18 21:27:38,781] Trial 38 finished with value: 0.8999999761581421 and parameters: {'fileters': 93, 'units': 57}. Best is trial 23 with value: 0.9357143044471741.\n",
      "[I 2023-11-18 21:28:09,271] Trial 39 finished with value: 0.8571428656578064 and parameters: {'fileters': 66, 'units': 48}. Best is trial 23 with value: 0.9357143044471741.\n",
      "[I 2023-11-18 21:28:34,796] Trial 40 finished with value: 0.9071428775787354 and parameters: {'fileters': 55, 'units': 80}. Best is trial 23 with value: 0.9357143044471741.\n",
      "[I 2023-11-18 21:29:04,485] Trial 41 finished with value: 0.8928571343421936 and parameters: {'fileters': 76, 'units': 53}. Best is trial 23 with value: 0.9357143044471741.\n",
      "[I 2023-11-18 21:29:31,094] Trial 42 finished with value: 0.8785714507102966 and parameters: {'fileters': 68, 'units': 71}. Best is trial 23 with value: 0.9357143044471741.\n",
      "[I 2023-11-18 21:29:56,858] Trial 43 finished with value: 0.8285714387893677 and parameters: {'fileters': 78, 'units': 58}. Best is trial 23 with value: 0.9357143044471741.\n",
      "[I 2023-11-18 21:30:25,873] Trial 44 finished with value: 0.8857142925262451 and parameters: {'fileters': 88, 'units': 37}. Best is trial 23 with value: 0.9357143044471741.\n",
      "[I 2023-11-18 21:30:48,992] Trial 45 finished with value: 0.9214285612106323 and parameters: {'fileters': 70, 'units': 49}. Best is trial 23 with value: 0.9357143044471741.\n",
      "[I 2023-11-18 21:30:57,654] Trial 46 finished with value: 0.8642857074737549 and parameters: {'fileters': 42, 'units': 45}. Best is trial 23 with value: 0.9357143044471741.\n",
      "[I 2023-11-18 21:31:21,716] Trial 47 finished with value: 0.9214285612106323 and parameters: {'fileters': 62, 'units': 49}. Best is trial 23 with value: 0.9357143044471741.\n",
      "[I 2023-11-18 21:31:37,656] Trial 48 finished with value: 0.8785714507102966 and parameters: {'fileters': 59, 'units': 36}. Best is trial 23 with value: 0.9357143044471741.\n",
      "[I 2023-11-18 21:31:57,441] Trial 49 finished with value: 0.8714285492897034 and parameters: {'fileters': 65, 'units': 50}. Best is trial 23 with value: 0.9357143044471741.\n"
     ]
    },
    {
     "name": "stdout",
     "output_type": "stream",
     "text": [
      "Best trial - Accuracy: 0.9357, Parameters: {'fileters': 85, 'units': 58}\n"
     ]
    }
   ],
   "source": [
    "study = optuna.create_study(direction='maximize')\n",
    "study.optimize(objective, n_trials=50)\n",
    "best_trial = study.best_trial\n",
    "print(f\"Best trial - Accuracy: {best_trial.value:.4f}, Parameters: {best_trial.params}\")"
   ]
  },
  {
   "cell_type": "markdown",
   "id": "50d0c77e-699f-4805-a86b-2ad5ce8c9ee1",
   "metadata": {},
   "source": [
    "## Customized hyperparameters"
   ]
  },
  {
   "cell_type": "code",
   "execution_count": 64,
   "id": "1d2c6c19-6f3d-411c-8484-037c69942c7d",
   "metadata": {},
   "outputs": [],
   "source": [
    "def cust_hyper_cnn(filter,unit,ksize,lrate,num_of_layers):\n",
    "    model = Sequential()\n",
    "    model.add(Conv2D(filter, (ksize, ksize), activation='relu', input_shape=(50, 50, 3)))\n",
    "    for i in range(num_of_layers):\n",
    "        model.add(MaxPooling2D((2, 2)))\n",
    "        model.add(Conv2D(filter, (ksize, ksize), activation='relu'))\n",
    "    model.add(Flatten())\n",
    "    model.add(Dense(unit, activation='relu'))\n",
    "    model.add(Dense(1, activation='sigmoid'))\n",
    "\n",
    "    model.compile(optimizer=Adam(learning_rate=lrate), loss='binary_crossentropy', metrics=['accuracy'])\n",
    "\n",
    "    history = model.fit(X_train, y_train, epochs=100, validation_data=(X_test, y_test), callbacks=[early_stopping])\n",
    "\n",
    "    test_loss, test_accuracy = model.evaluate(X_test, y_test)\n",
    "    print(f\"Test Accuracy: {test_accuracy * 100:.2f}%\")"
   ]
  },
  {
   "cell_type": "code",
   "execution_count": 65,
   "id": "85bc3746-4900-4e57-9771-62203719b663",
   "metadata": {},
   "outputs": [
    {
     "name": "stdout",
     "output_type": "stream",
     "text": [
      "Epoch 1/100\n",
      "18/18 [==============================] - 2s 105ms/step - loss: 10.1654 - accuracy: 0.6529 - val_loss: 0.5227 - val_accuracy: 0.7857\n",
      "Epoch 2/100\n",
      "18/18 [==============================] - 2s 93ms/step - loss: 0.4066 - accuracy: 0.8094 - val_loss: 0.4413 - val_accuracy: 0.7857\n",
      "Epoch 3/100\n",
      "18/18 [==============================] - 2s 92ms/step - loss: 0.3819 - accuracy: 0.8219 - val_loss: 0.4145 - val_accuracy: 0.7857\n",
      "Epoch 4/100\n",
      "18/18 [==============================] - 2s 94ms/step - loss: 0.3436 - accuracy: 0.8345 - val_loss: 0.3213 - val_accuracy: 0.9214\n",
      "Epoch 5/100\n",
      "18/18 [==============================] - 2s 94ms/step - loss: 0.2840 - accuracy: 0.8903 - val_loss: 0.3057 - val_accuracy: 0.8786\n",
      "Epoch 6/100\n",
      "18/18 [==============================] - 2s 100ms/step - loss: 0.2280 - accuracy: 0.8993 - val_loss: 0.4610 - val_accuracy: 0.8286\n",
      "Epoch 7/100\n",
      "18/18 [==============================] - 2s 101ms/step - loss: 0.2519 - accuracy: 0.8921 - val_loss: 0.3289 - val_accuracy: 0.8571\n",
      "Epoch 8/100\n",
      "18/18 [==============================] - 2s 98ms/step - loss: 0.1964 - accuracy: 0.9119 - val_loss: 0.3454 - val_accuracy: 0.8500\n",
      "5/5 [==============================] - 0s 27ms/step - loss: 0.3057 - accuracy: 0.8786\n",
      "Test Accuracy: 87.86%\n"
     ]
    }
   ],
   "source": [
    "cust_hyper_cnn(85,58,5,0.001,2)"
   ]
  },
  {
   "cell_type": "code",
   "execution_count": 66,
   "id": "667f7454-34c9-47ab-95d5-03a02388a5f4",
   "metadata": {},
   "outputs": [
    {
     "name": "stdout",
     "output_type": "stream",
     "text": [
      "Epoch 1/100\n",
      "18/18 [==============================] - 2s 81ms/step - loss: 6.1886 - accuracy: 0.7248 - val_loss: 0.5939 - val_accuracy: 0.8143\n",
      "Epoch 2/100\n",
      "18/18 [==============================] - 1s 79ms/step - loss: 0.3860 - accuracy: 0.8435 - val_loss: 0.4406 - val_accuracy: 0.8357\n",
      "Epoch 3/100\n",
      "18/18 [==============================] - 2s 85ms/step - loss: 0.2996 - accuracy: 0.8705 - val_loss: 0.3151 - val_accuracy: 0.8643\n",
      "Epoch 4/100\n",
      "18/18 [==============================] - 2s 96ms/step - loss: 0.2694 - accuracy: 0.8849 - val_loss: 0.2440 - val_accuracy: 0.8857\n",
      "Epoch 5/100\n",
      "18/18 [==============================] - 2s 96ms/step - loss: 0.2501 - accuracy: 0.8885 - val_loss: 0.3080 - val_accuracy: 0.8786\n",
      "Epoch 6/100\n",
      "18/18 [==============================] - 2s 92ms/step - loss: 0.1822 - accuracy: 0.9281 - val_loss: 0.2796 - val_accuracy: 0.8929\n",
      "Epoch 7/100\n",
      "18/18 [==============================] - 2s 96ms/step - loss: 0.1385 - accuracy: 0.9460 - val_loss: 0.2860 - val_accuracy: 0.9143\n",
      "5/5 [==============================] - 0s 22ms/step - loss: 0.2440 - accuracy: 0.8857\n",
      "Test Accuracy: 88.57%\n"
     ]
    }
   ],
   "source": [
    "cust_hyper_cnn(85,58,3,0.001,2)"
   ]
  },
  {
   "cell_type": "code",
   "execution_count": 67,
   "id": "804a3a83-346d-409b-b639-28751ae9639b",
   "metadata": {},
   "outputs": [
    {
     "name": "stdout",
     "output_type": "stream",
     "text": [
      "Epoch 1/100\n",
      "18/18 [==============================] - 2s 97ms/step - loss: 2.8397 - accuracy: 0.7140 - val_loss: 1.0442 - val_accuracy: 0.7857\n",
      "Epoch 2/100\n",
      "18/18 [==============================] - 2s 95ms/step - loss: 0.6279 - accuracy: 0.8255 - val_loss: 0.4246 - val_accuracy: 0.8429\n",
      "Epoch 3/100\n",
      "18/18 [==============================] - 2s 92ms/step - loss: 0.3811 - accuracy: 0.8687 - val_loss: 0.4792 - val_accuracy: 0.8143\n",
      "Epoch 4/100\n",
      "18/18 [==============================] - 2s 93ms/step - loss: 0.2621 - accuracy: 0.8903 - val_loss: 0.5686 - val_accuracy: 0.7929\n",
      "Epoch 5/100\n",
      "18/18 [==============================] - 2s 94ms/step - loss: 0.2618 - accuracy: 0.8939 - val_loss: 0.4859 - val_accuracy: 0.8500\n",
      "5/5 [==============================] - 0s 21ms/step - loss: 0.4246 - accuracy: 0.8429\n",
      "Test Accuracy: 84.29%\n"
     ]
    }
   ],
   "source": [
    "cust_hyper_cnn(85,58,3,0.0001,2)"
   ]
  },
  {
   "cell_type": "code",
   "execution_count": 68,
   "id": "6bf1e122-af20-4b4a-8b7d-206ef316b6b2",
   "metadata": {},
   "outputs": [
    {
     "name": "stdout",
     "output_type": "stream",
     "text": [
      "Epoch 1/100\n",
      "18/18 [==============================] - 2s 95ms/step - loss: 0.9248 - accuracy: 0.7626 - val_loss: 0.5025 - val_accuracy: 0.7500\n",
      "Epoch 2/100\n",
      "18/18 [==============================] - 2s 90ms/step - loss: 0.3650 - accuracy: 0.8417 - val_loss: 0.2995 - val_accuracy: 0.8714\n",
      "Epoch 3/100\n",
      "18/18 [==============================] - 2s 90ms/step - loss: 0.3108 - accuracy: 0.8669 - val_loss: 0.2939 - val_accuracy: 0.8786\n",
      "Epoch 4/100\n",
      "18/18 [==============================] - 2s 91ms/step - loss: 0.2325 - accuracy: 0.8993 - val_loss: 0.3041 - val_accuracy: 0.9143\n",
      "Epoch 5/100\n",
      "18/18 [==============================] - 2s 90ms/step - loss: 0.1868 - accuracy: 0.9299 - val_loss: 0.2731 - val_accuracy: 0.9357\n",
      "Epoch 6/100\n",
      "18/18 [==============================] - 2s 90ms/step - loss: 0.1504 - accuracy: 0.9371 - val_loss: 0.2798 - val_accuracy: 0.9071\n",
      "Epoch 7/100\n",
      "18/18 [==============================] - 2s 91ms/step - loss: 0.1039 - accuracy: 0.9676 - val_loss: 0.3830 - val_accuracy: 0.9143\n",
      "Epoch 8/100\n",
      "18/18 [==============================] - 2s 91ms/step - loss: 0.0790 - accuracy: 0.9766 - val_loss: 0.3739 - val_accuracy: 0.8857\n",
      "5/5 [==============================] - 0s 23ms/step - loss: 0.2731 - accuracy: 0.9357\n",
      "Test Accuracy: 93.57%\n"
     ]
    }
   ],
   "source": [
    "cust_hyper_cnn(85,58,3,0.001,3)"
   ]
  },
  {
   "cell_type": "code",
   "execution_count": 69,
   "id": "aca170f8-3600-4c4e-b05f-fceb4c7f966c",
   "metadata": {},
   "outputs": [
    {
     "name": "stdout",
     "output_type": "stream",
     "text": [
      "Epoch 1/100\n",
      "18/18 [==============================] - 2s 96ms/step - loss: 28.7766 - accuracy: 0.7698 - val_loss: 0.4351 - val_accuracy: 0.8143\n",
      "Epoch 2/100\n",
      "18/18 [==============================] - 2s 89ms/step - loss: 0.3356 - accuracy: 0.8597 - val_loss: 0.6370 - val_accuracy: 0.8357\n",
      "Epoch 3/100\n",
      "18/18 [==============================] - 2s 90ms/step - loss: 0.4268 - accuracy: 0.9083 - val_loss: 0.4746 - val_accuracy: 0.8286\n",
      "Epoch 4/100\n",
      "18/18 [==============================] - 2s 90ms/step - loss: 0.1682 - accuracy: 0.9299 - val_loss: 0.4929 - val_accuracy: 0.8429\n",
      "5/5 [==============================] - 0s 24ms/step - loss: 0.4351 - accuracy: 0.8143\n",
      "Test Accuracy: 81.43%\n"
     ]
    }
   ],
   "source": [
    "cust_hyper_cnn(85,58,3,0.001,1)"
   ]
  },
  {
   "cell_type": "code",
   "execution_count": 70,
   "id": "e9b9b57f-2b0f-4385-9be1-45e009146956",
   "metadata": {},
   "outputs": [
    {
     "name": "stdout",
     "output_type": "stream",
     "text": [
      "Epoch 1/100\n",
      "18/18 [==============================] - 4s 182ms/step - loss: 10.5341 - accuracy: 0.7374 - val_loss: 0.4088 - val_accuracy: 0.8000\n",
      "Epoch 2/100\n",
      "18/18 [==============================] - 3s 177ms/step - loss: 0.3631 - accuracy: 0.8399 - val_loss: 0.3731 - val_accuracy: 0.8357\n",
      "Epoch 3/100\n",
      "18/18 [==============================] - 3s 175ms/step - loss: 0.3336 - accuracy: 0.8723 - val_loss: 0.3729 - val_accuracy: 0.8357\n",
      "Epoch 4/100\n",
      "18/18 [==============================] - 3s 174ms/step - loss: 0.3129 - accuracy: 0.8705 - val_loss: 0.3701 - val_accuracy: 0.8500\n",
      "Epoch 5/100\n",
      "18/18 [==============================] - 3s 176ms/step - loss: 0.2386 - accuracy: 0.9011 - val_loss: 0.4464 - val_accuracy: 0.8429\n",
      "Epoch 6/100\n",
      "18/18 [==============================] - 3s 174ms/step - loss: 0.1950 - accuracy: 0.9191 - val_loss: 0.4550 - val_accuracy: 0.8071\n",
      "Epoch 7/100\n",
      "18/18 [==============================] - 3s 179ms/step - loss: 0.1361 - accuracy: 0.9478 - val_loss: 0.4872 - val_accuracy: 0.8571\n",
      "5/5 [==============================] - 0s 36ms/step - loss: 0.3701 - accuracy: 0.8500\n",
      "Test Accuracy: 85.00%\n"
     ]
    }
   ],
   "source": [
    "cust_hyper_cnn(85,58,7,0.001,2)"
   ]
  },
  {
   "cell_type": "code",
   "execution_count": 71,
   "id": "c4f48e45-29b1-44db-ad6d-fd354131f33e",
   "metadata": {},
   "outputs": [
    {
     "name": "stdout",
     "output_type": "stream",
     "text": [
      "Epoch 1/100\n",
      "18/18 [==============================] - 3s 133ms/step - loss: 872.5471 - accuracy: 0.7266 - val_loss: 0.5298 - val_accuracy: 0.7857\n",
      "Epoch 2/100\n",
      "18/18 [==============================] - 2s 128ms/step - loss: 0.5110 - accuracy: 0.8094 - val_loss: 10.2183 - val_accuracy: 0.7857\n",
      "Epoch 3/100\n",
      "18/18 [==============================] - 2s 135ms/step - loss: 1.5641 - accuracy: 0.8076 - val_loss: 0.5235 - val_accuracy: 0.7857\n",
      "Epoch 4/100\n",
      "18/18 [==============================] - 2s 133ms/step - loss: 0.4884 - accuracy: 0.8094 - val_loss: 0.5199 - val_accuracy: 0.7857\n",
      "Epoch 5/100\n",
      "18/18 [==============================] - 2s 132ms/step - loss: 0.4895 - accuracy: 0.8094 - val_loss: 0.5302 - val_accuracy: 0.7857\n",
      "Epoch 6/100\n",
      "18/18 [==============================] - 2s 134ms/step - loss: 0.4914 - accuracy: 0.8094 - val_loss: 0.5245 - val_accuracy: 0.7857\n",
      "Epoch 7/100\n",
      "18/18 [==============================] - 2s 131ms/step - loss: 0.4953 - accuracy: 0.8094 - val_loss: 0.5193 - val_accuracy: 0.7857\n",
      "Epoch 8/100\n",
      "18/18 [==============================] - 2s 132ms/step - loss: 0.4877 - accuracy: 0.8094 - val_loss: 0.5242 - val_accuracy: 0.7857\n",
      "Epoch 9/100\n",
      "18/18 [==============================] - 2s 134ms/step - loss: 0.4896 - accuracy: 0.8094 - val_loss: 0.5199 - val_accuracy: 0.7857\n",
      "Epoch 10/100\n",
      "18/18 [==============================] - 2s 136ms/step - loss: 0.4902 - accuracy: 0.8094 - val_loss: 0.5278 - val_accuracy: 0.7857\n",
      "5/5 [==============================] - 0s 31ms/step - loss: 0.5193 - accuracy: 0.7857\n",
      "Test Accuracy: 78.57%\n"
     ]
    }
   ],
   "source": [
    "cust_hyper_cnn(85,58,5,0.01,2)"
   ]
  },
  {
   "cell_type": "code",
   "execution_count": 72,
   "id": "efd08fa4-5d7f-4ca5-861f-1421ed7c894e",
   "metadata": {},
   "outputs": [
    {
     "name": "stdout",
     "output_type": "stream",
     "text": [
      "Epoch 1/100\n",
      "18/18 [==============================] - 3s 144ms/step - loss: 1.8821 - accuracy: 0.7374 - val_loss: 1.2060 - val_accuracy: 0.7714\n",
      "Epoch 2/100\n",
      "18/18 [==============================] - 3s 143ms/step - loss: 0.6875 - accuracy: 0.8471 - val_loss: 0.4513 - val_accuracy: 0.8143\n",
      "Epoch 3/100\n",
      "18/18 [==============================] - 2s 139ms/step - loss: 0.3109 - accuracy: 0.8669 - val_loss: 0.3662 - val_accuracy: 0.8571\n",
      "Epoch 4/100\n",
      "18/18 [==============================] - 3s 142ms/step - loss: 0.2076 - accuracy: 0.9263 - val_loss: 0.4876 - val_accuracy: 0.8214\n",
      "Epoch 5/100\n",
      "18/18 [==============================] - 3s 140ms/step - loss: 0.1711 - accuracy: 0.9353 - val_loss: 0.2535 - val_accuracy: 0.9071\n",
      "Epoch 6/100\n",
      "18/18 [==============================] - 3s 141ms/step - loss: 0.1293 - accuracy: 0.9478 - val_loss: 0.2913 - val_accuracy: 0.9143\n",
      "Epoch 7/100\n",
      "18/18 [==============================] - 3s 143ms/step - loss: 0.1176 - accuracy: 0.9604 - val_loss: 0.3099 - val_accuracy: 0.9000\n",
      "Epoch 8/100\n",
      "18/18 [==============================] - 3s 148ms/step - loss: 0.0990 - accuracy: 0.9658 - val_loss: 0.3440 - val_accuracy: 0.8429\n",
      "5/5 [==============================] - 0s 34ms/step - loss: 0.2535 - accuracy: 0.9071\n",
      "Test Accuracy: 90.71%\n"
     ]
    }
   ],
   "source": [
    "cust_hyper_cnn(85,58,5,0.0001,2)"
   ]
  },
  {
   "cell_type": "markdown",
   "id": "cd7fbff1-7289-498e-816e-6888363e25e9",
   "metadata": {},
   "source": [
    "## Dropout"
   ]
  },
  {
   "cell_type": "code",
   "execution_count": 73,
   "id": "23cb3431-8686-43b6-9597-81570ca7d40e",
   "metadata": {},
   "outputs": [],
   "source": [
    "from tensorflow.keras.regularizers import l2\n",
    "from tensorflow.keras.layers import Dropout"
   ]
  },
  {
   "cell_type": "code",
   "execution_count": 81,
   "id": "c4f26a6e-4c10-43ac-8ce8-8dfd2c3c3b51",
   "metadata": {},
   "outputs": [],
   "source": [
    "def cust_hyper_cnn_rd(filter,unit,ksize,lrate,num_of_layers,reg,dropout,bs):\n",
    "    model = Sequential()\n",
    "    model.add(Conv2D(filter, (ksize, ksize), activation='relu', input_shape=(50, 50, 3)))\n",
    "    for i in range(num_of_layers):\n",
    "        model.add(MaxPooling2D((2, 2)))\n",
    "        model.add(Conv2D(filter, (ksize, ksize), activation='relu', kernel_regularizer=l2(reg)))\n",
    "        model.add(Dropout(dropout))\n",
    "    model.add(Flatten())\n",
    "    model.add(Dense(unit, activation='relu'))\n",
    "    model.add(Dense(1, activation='sigmoid'))\n",
    "\n",
    "    model.compile(optimizer=Adam(learning_rate=lrate), loss='binary_crossentropy', metrics=['accuracy'])\n",
    "\n",
    "    history = model.fit(X_train, y_train, batch_size=bs, epochs=100, validation_data=(X_test, y_test), callbacks=[early_stopping])\n",
    "\n",
    "    test_loss, test_accuracy = model.evaluate(X_test, y_test)\n",
    "    print(f\"Test Accuracy: {test_accuracy * 100:.2f}%\")"
   ]
  },
  {
   "cell_type": "code",
   "execution_count": 82,
   "id": "e6698951-e361-4c8f-944a-283e136cbc06",
   "metadata": {},
   "outputs": [
    {
     "name": "stdout",
     "output_type": "stream",
     "text": [
      "Epoch 1/100\n",
      "18/18 [==============================] - 3s 115ms/step - loss: 6.8760 - accuracy: 0.6817 - val_loss: 1.9774 - val_accuracy: 0.7500\n",
      "Epoch 2/100\n",
      "18/18 [==============================] - 2s 109ms/step - loss: 1.9628 - accuracy: 0.7932 - val_loss: 1.8457 - val_accuracy: 0.7786\n",
      "Epoch 3/100\n",
      "18/18 [==============================] - 3s 163ms/step - loss: 1.7738 - accuracy: 0.8112 - val_loss: 1.7369 - val_accuracy: 0.7714\n",
      "Epoch 4/100\n",
      "18/18 [==============================] - 3s 165ms/step - loss: 1.6721 - accuracy: 0.8255 - val_loss: 1.6099 - val_accuracy: 0.7929\n",
      "Epoch 5/100\n",
      "18/18 [==============================] - 3s 163ms/step - loss: 1.5763 - accuracy: 0.8435 - val_loss: 1.6180 - val_accuracy: 0.8286\n",
      "Epoch 6/100\n",
      "18/18 [==============================] - 3s 161ms/step - loss: 1.4994 - accuracy: 0.8417 - val_loss: 1.5295 - val_accuracy: 0.7857\n",
      "Epoch 7/100\n",
      "18/18 [==============================] - 3s 159ms/step - loss: 1.4638 - accuracy: 0.8507 - val_loss: 1.4277 - val_accuracy: 0.8429\n",
      "Epoch 8/100\n",
      "18/18 [==============================] - 3s 162ms/step - loss: 1.3727 - accuracy: 0.8777 - val_loss: 1.3605 - val_accuracy: 0.8286\n",
      "Epoch 9/100\n",
      "18/18 [==============================] - 3s 160ms/step - loss: 1.3093 - accuracy: 0.8849 - val_loss: 1.3067 - val_accuracy: 0.8714\n",
      "Epoch 10/100\n",
      "18/18 [==============================] - 3s 158ms/step - loss: 1.2695 - accuracy: 0.8759 - val_loss: 1.2799 - val_accuracy: 0.8857\n",
      "Epoch 11/100\n",
      "18/18 [==============================] - 3s 158ms/step - loss: 1.1908 - accuracy: 0.8939 - val_loss: 1.2098 - val_accuracy: 0.8929\n",
      "Epoch 12/100\n",
      "18/18 [==============================] - 3s 157ms/step - loss: 1.1591 - accuracy: 0.8957 - val_loss: 1.2092 - val_accuracy: 0.8714\n",
      "Epoch 13/100\n",
      "18/18 [==============================] - 3s 159ms/step - loss: 1.1189 - accuracy: 0.9101 - val_loss: 1.1758 - val_accuracy: 0.8571\n",
      "Epoch 14/100\n",
      "18/18 [==============================] - 3s 157ms/step - loss: 1.1014 - accuracy: 0.8939 - val_loss: 1.1726 - val_accuracy: 0.8214\n",
      "Epoch 15/100\n",
      "18/18 [==============================] - 3s 159ms/step - loss: 1.0683 - accuracy: 0.9137 - val_loss: 1.1037 - val_accuracy: 0.8643\n",
      "Epoch 16/100\n",
      "18/18 [==============================] - 3s 156ms/step - loss: 1.0049 - accuracy: 0.9173 - val_loss: 1.0955 - val_accuracy: 0.9000\n",
      "Epoch 17/100\n",
      "18/18 [==============================] - 3s 156ms/step - loss: 1.0099 - accuracy: 0.9119 - val_loss: 1.0786 - val_accuracy: 0.8929\n",
      "Epoch 18/100\n",
      "18/18 [==============================] - 3s 158ms/step - loss: 0.9334 - accuracy: 0.9317 - val_loss: 1.0427 - val_accuracy: 0.8929\n",
      "Epoch 19/100\n",
      "18/18 [==============================] - 3s 159ms/step - loss: 0.9242 - accuracy: 0.9281 - val_loss: 1.0814 - val_accuracy: 0.8571\n",
      "Epoch 20/100\n",
      "18/18 [==============================] - 3s 160ms/step - loss: 0.9218 - accuracy: 0.9406 - val_loss: 1.0072 - val_accuracy: 0.8786\n",
      "Epoch 21/100\n",
      "18/18 [==============================] - 3s 156ms/step - loss: 0.8444 - accuracy: 0.9514 - val_loss: 0.9818 - val_accuracy: 0.8929\n",
      "Epoch 22/100\n",
      "18/18 [==============================] - 3s 161ms/step - loss: 0.8057 - accuracy: 0.9586 - val_loss: 1.0028 - val_accuracy: 0.9000\n",
      "Epoch 23/100\n",
      "18/18 [==============================] - 3s 158ms/step - loss: 0.7753 - accuracy: 0.9676 - val_loss: 1.0251 - val_accuracy: 0.8500\n",
      "Epoch 24/100\n",
      "18/18 [==============================] - 3s 157ms/step - loss: 0.7449 - accuracy: 0.9694 - val_loss: 1.0375 - val_accuracy: 0.8929\n",
      "5/5 [==============================] - 0s 35ms/step - loss: 0.9818 - accuracy: 0.8929\n",
      "Test Accuracy: 89.29%\n"
     ]
    }
   ],
   "source": [
    "cust_hyper_cnn_rd(85,58,5,0.001,2,0.01,0.05, 32)"
   ]
  },
  {
   "cell_type": "code",
   "execution_count": 83,
   "id": "161cf9a1-ac41-4b70-bc7a-9e308da3627f",
   "metadata": {},
   "outputs": [
    {
     "name": "stdout",
     "output_type": "stream",
     "text": [
      "Epoch 1/100\n",
      "18/18 [==============================] - 4s 158ms/step - loss: 3.8529 - accuracy: 0.7536 - val_loss: 0.3858 - val_accuracy: 0.7857\n",
      "Epoch 2/100\n",
      "18/18 [==============================] - 3s 153ms/step - loss: 0.3713 - accuracy: 0.8525 - val_loss: 0.3512 - val_accuracy: 0.8071\n",
      "Epoch 3/100\n",
      "18/18 [==============================] - 3s 151ms/step - loss: 0.3194 - accuracy: 0.8453 - val_loss: 0.3896 - val_accuracy: 0.7929\n",
      "Epoch 4/100\n",
      "18/18 [==============================] - 3s 154ms/step - loss: 0.3074 - accuracy: 0.8687 - val_loss: 0.3035 - val_accuracy: 0.9071\n",
      "Epoch 5/100\n",
      "18/18 [==============================] - 3s 156ms/step - loss: 0.2894 - accuracy: 0.8885 - val_loss: 0.3716 - val_accuracy: 0.8214\n",
      "Epoch 6/100\n",
      "18/18 [==============================] - 3s 152ms/step - loss: 0.2430 - accuracy: 0.8993 - val_loss: 0.2500 - val_accuracy: 0.9071\n",
      "Epoch 7/100\n",
      "18/18 [==============================] - 3s 155ms/step - loss: 0.2078 - accuracy: 0.9101 - val_loss: 0.2836 - val_accuracy: 0.9000\n",
      "Epoch 8/100\n",
      "18/18 [==============================] - 3s 152ms/step - loss: 0.1920 - accuracy: 0.9137 - val_loss: 0.2918 - val_accuracy: 0.8714\n",
      "Epoch 9/100\n",
      "18/18 [==============================] - 3s 154ms/step - loss: 0.1530 - accuracy: 0.9371 - val_loss: 0.2759 - val_accuracy: 0.8929\n",
      "5/5 [==============================] - 0s 39ms/step - loss: 0.2500 - accuracy: 0.9071\n",
      "Test Accuracy: 90.71%\n"
     ]
    }
   ],
   "source": [
    "cust_hyper_cnn_rd(85,58,5,0.001,2,0.0,0.05, 32)"
   ]
  },
  {
   "cell_type": "code",
   "execution_count": 84,
   "id": "09b50943-3633-4090-9c3b-d9dd6248c89e",
   "metadata": {},
   "outputs": [
    {
     "name": "stdout",
     "output_type": "stream",
     "text": [
      "Epoch 1/100\n",
      "18/18 [==============================] - 3s 151ms/step - loss: 11.2260 - accuracy: 0.7284 - val_loss: 1.8001 - val_accuracy: 0.8000\n",
      "Epoch 2/100\n",
      "18/18 [==============================] - 3s 144ms/step - loss: 1.7183 - accuracy: 0.8147 - val_loss: 1.6144 - val_accuracy: 0.8286\n",
      "Epoch 3/100\n",
      "18/18 [==============================] - 3s 144ms/step - loss: 1.5779 - accuracy: 0.8399 - val_loss: 1.5235 - val_accuracy: 0.8429\n",
      "Epoch 4/100\n",
      "18/18 [==============================] - 3s 146ms/step - loss: 1.4988 - accuracy: 0.8561 - val_loss: 1.4356 - val_accuracy: 0.8714\n",
      "Epoch 5/100\n",
      "18/18 [==============================] - 3s 145ms/step - loss: 1.3723 - accuracy: 0.8687 - val_loss: 1.4275 - val_accuracy: 0.8214\n",
      "Epoch 6/100\n",
      "18/18 [==============================] - 3s 158ms/step - loss: 1.3296 - accuracy: 0.8687 - val_loss: 1.3233 - val_accuracy: 0.8500\n",
      "Epoch 7/100\n",
      "18/18 [==============================] - 3s 149ms/step - loss: 1.2203 - accuracy: 0.9011 - val_loss: 1.3026 - val_accuracy: 0.8571\n",
      "Epoch 8/100\n",
      "18/18 [==============================] - 3s 142ms/step - loss: 1.1257 - accuracy: 0.9335 - val_loss: 1.3032 - val_accuracy: 0.8929\n",
      "Epoch 9/100\n",
      "18/18 [==============================] - 3s 145ms/step - loss: 1.0785 - accuracy: 0.9388 - val_loss: 1.3049 - val_accuracy: 0.8643\n",
      "Epoch 10/100\n",
      "18/18 [==============================] - 3s 144ms/step - loss: 1.0555 - accuracy: 0.9281 - val_loss: 1.2324 - val_accuracy: 0.8500\n",
      "Epoch 11/100\n",
      "18/18 [==============================] - 3s 145ms/step - loss: 0.9812 - accuracy: 0.9550 - val_loss: 1.2159 - val_accuracy: 0.8857\n",
      "Epoch 12/100\n",
      "18/18 [==============================] - 3s 145ms/step - loss: 0.9348 - accuracy: 0.9586 - val_loss: 1.2334 - val_accuracy: 0.9143\n",
      "Epoch 13/100\n",
      "18/18 [==============================] - 3s 143ms/step - loss: 0.9170 - accuracy: 0.9622 - val_loss: 1.2847 - val_accuracy: 0.9143\n",
      "Epoch 14/100\n",
      "18/18 [==============================] - 3s 141ms/step - loss: 0.8533 - accuracy: 0.9766 - val_loss: 1.3424 - val_accuracy: 0.8857\n",
      "5/5 [==============================] - 0s 31ms/step - loss: 1.2159 - accuracy: 0.8857\n",
      "Test Accuracy: 88.57%\n"
     ]
    }
   ],
   "source": [
    "cust_hyper_cnn_rd(85,58,5,0.001,2,0.01,0.0, 32)"
   ]
  },
  {
   "cell_type": "code",
   "execution_count": 85,
   "id": "5766f804-d844-47d8-9f55-78b4353660c6",
   "metadata": {},
   "outputs": [
    {
     "name": "stdout",
     "output_type": "stream",
     "text": [
      "Epoch 1/100\n",
      "18/18 [==============================] - 4s 163ms/step - loss: 8.9827 - accuracy: 0.6996 - val_loss: 1.9755 - val_accuracy: 0.8214\n",
      "Epoch 2/100\n",
      "18/18 [==============================] - 3s 152ms/step - loss: 1.8523 - accuracy: 0.8004 - val_loss: 1.7810 - val_accuracy: 0.7857\n",
      "Epoch 3/100\n",
      "18/18 [==============================] - 3s 153ms/step - loss: 1.7087 - accuracy: 0.8112 - val_loss: 1.6532 - val_accuracy: 0.7929\n",
      "Epoch 4/100\n",
      "18/18 [==============================] - 3s 154ms/step - loss: 1.5894 - accuracy: 0.8417 - val_loss: 1.6337 - val_accuracy: 0.8357\n",
      "Epoch 5/100\n",
      "18/18 [==============================] - 3s 155ms/step - loss: 1.5479 - accuracy: 0.8219 - val_loss: 1.5296 - val_accuracy: 0.8500\n",
      "Epoch 6/100\n",
      "18/18 [==============================] - 3s 155ms/step - loss: 1.4911 - accuracy: 0.8453 - val_loss: 1.4816 - val_accuracy: 0.8500\n",
      "Epoch 7/100\n",
      "18/18 [==============================] - 3s 153ms/step - loss: 1.3938 - accuracy: 0.8615 - val_loss: 1.4427 - val_accuracy: 0.8929\n",
      "Epoch 8/100\n",
      "18/18 [==============================] - 3s 154ms/step - loss: 1.3321 - accuracy: 0.8849 - val_loss: 1.3339 - val_accuracy: 0.8714\n",
      "Epoch 9/100\n",
      "18/18 [==============================] - 3s 159ms/step - loss: 1.2641 - accuracy: 0.8975 - val_loss: 1.3079 - val_accuracy: 0.8571\n",
      "Epoch 10/100\n",
      "18/18 [==============================] - 3s 160ms/step - loss: 1.2560 - accuracy: 0.8921 - val_loss: 1.3559 - val_accuracy: 0.8786\n",
      "Epoch 11/100\n",
      "18/18 [==============================] - 3s 163ms/step - loss: 1.2216 - accuracy: 0.8831 - val_loss: 1.2746 - val_accuracy: 0.8429\n",
      "Epoch 12/100\n",
      "18/18 [==============================] - 3s 162ms/step - loss: 1.1217 - accuracy: 0.9155 - val_loss: 1.2161 - val_accuracy: 0.8786\n",
      "Epoch 13/100\n",
      "18/18 [==============================] - 3s 155ms/step - loss: 1.0592 - accuracy: 0.9335 - val_loss: 1.2363 - val_accuracy: 0.8643\n",
      "Epoch 14/100\n",
      "18/18 [==============================] - 3s 157ms/step - loss: 1.0282 - accuracy: 0.9406 - val_loss: 1.2266 - val_accuracy: 0.8571\n",
      "Epoch 15/100\n",
      "18/18 [==============================] - 3s 155ms/step - loss: 1.0083 - accuracy: 0.9317 - val_loss: 1.2031 - val_accuracy: 0.8786\n",
      "Epoch 16/100\n",
      "18/18 [==============================] - 3s 153ms/step - loss: 0.9571 - accuracy: 0.9550 - val_loss: 1.1725 - val_accuracy: 0.8857\n",
      "Epoch 17/100\n",
      "18/18 [==============================] - 3s 154ms/step - loss: 0.9493 - accuracy: 0.9496 - val_loss: 1.1730 - val_accuracy: 0.8571\n",
      "Epoch 18/100\n",
      "18/18 [==============================] - 3s 160ms/step - loss: 0.9005 - accuracy: 0.9622 - val_loss: 1.1752 - val_accuracy: 0.8500\n",
      "Epoch 19/100\n",
      "18/18 [==============================] - 3s 152ms/step - loss: 0.8939 - accuracy: 0.9586 - val_loss: 1.2879 - val_accuracy: 0.8643\n",
      "5/5 [==============================] - 0s 30ms/step - loss: 1.1725 - accuracy: 0.8857\n",
      "Test Accuracy: 88.57%\n"
     ]
    }
   ],
   "source": [
    "cust_hyper_cnn_rd(85,58,5,0.001,2,0.01,0.1, 32)"
   ]
  },
  {
   "cell_type": "code",
   "execution_count": 86,
   "id": "b8dbb6b7-8e78-4afe-8c4c-52a204d7f997",
   "metadata": {},
   "outputs": [
    {
     "name": "stdout",
     "output_type": "stream",
     "text": [
      "Epoch 1/100\n",
      "18/18 [==============================] - 4s 161ms/step - loss: 21.5746 - accuracy: 0.7068 - val_loss: 12.6008 - val_accuracy: 0.7857\n",
      "Epoch 2/100\n",
      "18/18 [==============================] - 3s 151ms/step - loss: 11.2988 - accuracy: 0.7950 - val_loss: 10.0411 - val_accuracy: 0.7857\n",
      "Epoch 3/100\n",
      "18/18 [==============================] - 3s 154ms/step - loss: 9.3479 - accuracy: 0.8112 - val_loss: 8.6759 - val_accuracy: 0.8071\n",
      "Epoch 4/100\n",
      "18/18 [==============================] - 3s 158ms/step - loss: 8.1923 - accuracy: 0.8201 - val_loss: 7.6754 - val_accuracy: 0.7929\n",
      "Epoch 5/100\n",
      "18/18 [==============================] - 3s 154ms/step - loss: 7.2885 - accuracy: 0.8112 - val_loss: 6.9110 - val_accuracy: 0.8643\n",
      "Epoch 6/100\n",
      "18/18 [==============================] - 3s 159ms/step - loss: 6.6432 - accuracy: 0.8309 - val_loss: 6.2730 - val_accuracy: 0.8000\n",
      "Epoch 7/100\n",
      "18/18 [==============================] - 3s 152ms/step - loss: 6.0264 - accuracy: 0.8291 - val_loss: 5.7755 - val_accuracy: 0.9357\n",
      "Epoch 8/100\n",
      "18/18 [==============================] - 3s 151ms/step - loss: 5.5228 - accuracy: 0.8561 - val_loss: 5.2854 - val_accuracy: 0.9357\n",
      "Epoch 9/100\n",
      "18/18 [==============================] - 3s 158ms/step - loss: 5.0794 - accuracy: 0.8759 - val_loss: 4.8683 - val_accuracy: 0.9143\n",
      "Epoch 10/100\n",
      "18/18 [==============================] - 3s 160ms/step - loss: 4.6919 - accuracy: 0.8903 - val_loss: 4.5073 - val_accuracy: 0.8857\n",
      "Epoch 11/100\n",
      "18/18 [==============================] - 3s 151ms/step - loss: 4.3433 - accuracy: 0.8885 - val_loss: 4.1802 - val_accuracy: 0.9214\n",
      "Epoch 12/100\n",
      "18/18 [==============================] - 3s 151ms/step - loss: 4.0141 - accuracy: 0.8831 - val_loss: 3.9266 - val_accuracy: 0.8786\n",
      "Epoch 13/100\n",
      "18/18 [==============================] - 3s 155ms/step - loss: 3.7726 - accuracy: 0.8849 - val_loss: 4.0004 - val_accuracy: 0.7357\n",
      "Epoch 14/100\n",
      "18/18 [==============================] - 3s 151ms/step - loss: 3.6696 - accuracy: 0.8561 - val_loss: 3.4497 - val_accuracy: 0.8857\n",
      "Epoch 15/100\n",
      "18/18 [==============================] - 3s 153ms/step - loss: 3.4257 - accuracy: 0.8579 - val_loss: 3.3241 - val_accuracy: 0.8643\n",
      "Epoch 16/100\n",
      "18/18 [==============================] - 3s 158ms/step - loss: 3.1643 - accuracy: 0.8381 - val_loss: 3.0678 - val_accuracy: 0.8286\n",
      "Epoch 17/100\n",
      "18/18 [==============================] - 3s 153ms/step - loss: 2.9349 - accuracy: 0.8741 - val_loss: 2.8760 - val_accuracy: 0.8929\n",
      "Epoch 18/100\n",
      "18/18 [==============================] - 3s 151ms/step - loss: 2.7087 - accuracy: 0.9209 - val_loss: 2.6760 - val_accuracy: 0.9071\n",
      "Epoch 19/100\n",
      "18/18 [==============================] - 3s 154ms/step - loss: 2.5455 - accuracy: 0.9083 - val_loss: 2.5562 - val_accuracy: 0.8714\n",
      "Epoch 20/100\n",
      "18/18 [==============================] - 3s 157ms/step - loss: 2.5168 - accuracy: 0.8543 - val_loss: 2.4446 - val_accuracy: 0.8286\n",
      "Epoch 21/100\n",
      "18/18 [==============================] - 3s 160ms/step - loss: 2.3435 - accuracy: 0.8777 - val_loss: 2.3192 - val_accuracy: 0.8857\n",
      "Epoch 22/100\n",
      "18/18 [==============================] - 3s 153ms/step - loss: 2.1725 - accuracy: 0.9083 - val_loss: 2.1727 - val_accuracy: 0.8857\n",
      "Epoch 23/100\n",
      "18/18 [==============================] - 3s 152ms/step - loss: 2.0108 - accuracy: 0.9209 - val_loss: 2.0427 - val_accuracy: 0.9000\n",
      "Epoch 24/100\n",
      "18/18 [==============================] - 3s 158ms/step - loss: 1.8901 - accuracy: 0.9335 - val_loss: 1.9351 - val_accuracy: 0.8929\n",
      "Epoch 25/100\n",
      "18/18 [==============================] - 3s 152ms/step - loss: 1.7517 - accuracy: 0.9388 - val_loss: 1.8290 - val_accuracy: 0.8929\n",
      "Epoch 26/100\n",
      "18/18 [==============================] - 3s 152ms/step - loss: 1.6357 - accuracy: 0.9478 - val_loss: 1.7866 - val_accuracy: 0.8929\n",
      "Epoch 27/100\n",
      "18/18 [==============================] - 3s 159ms/step - loss: 1.5567 - accuracy: 0.9514 - val_loss: 1.6560 - val_accuracy: 0.9143\n",
      "Epoch 28/100\n",
      "18/18 [==============================] - 3s 164ms/step - loss: 1.4776 - accuracy: 0.9514 - val_loss: 1.6132 - val_accuracy: 0.8929\n",
      "Epoch 29/100\n",
      "18/18 [==============================] - 3s 156ms/step - loss: 1.4052 - accuracy: 0.9442 - val_loss: 1.5669 - val_accuracy: 0.9000\n",
      "Epoch 30/100\n",
      "18/18 [==============================] - 3s 150ms/step - loss: 1.2944 - accuracy: 0.9586 - val_loss: 1.4766 - val_accuracy: 0.9000\n",
      "Epoch 31/100\n",
      "18/18 [==============================] - 3s 157ms/step - loss: 1.2438 - accuracy: 0.9532 - val_loss: 1.4244 - val_accuracy: 0.8643\n",
      "Epoch 32/100\n",
      "18/18 [==============================] - 3s 150ms/step - loss: 1.1787 - accuracy: 0.9532 - val_loss: 1.3807 - val_accuracy: 0.8500\n",
      "Epoch 33/100\n",
      "18/18 [==============================] - 3s 152ms/step - loss: 1.1808 - accuracy: 0.9317 - val_loss: 1.2996 - val_accuracy: 0.8857\n",
      "Epoch 34/100\n",
      "18/18 [==============================] - 3s 155ms/step - loss: 1.0753 - accuracy: 0.9550 - val_loss: 1.2321 - val_accuracy: 0.8857\n",
      "Epoch 35/100\n",
      "18/18 [==============================] - 3s 160ms/step - loss: 0.9772 - accuracy: 0.9802 - val_loss: 1.2837 - val_accuracy: 0.8786\n",
      "Epoch 36/100\n",
      "18/18 [==============================] - 3s 162ms/step - loss: 0.9358 - accuracy: 0.9784 - val_loss: 1.1684 - val_accuracy: 0.9143\n",
      "Epoch 37/100\n",
      "18/18 [==============================] - 3s 155ms/step - loss: 0.8785 - accuracy: 0.9766 - val_loss: 1.0608 - val_accuracy: 0.9071\n",
      "Epoch 38/100\n",
      "18/18 [==============================] - 3s 159ms/step - loss: 0.8098 - accuracy: 0.9910 - val_loss: 1.1184 - val_accuracy: 0.9143\n",
      "Epoch 39/100\n",
      "18/18 [==============================] - 3s 153ms/step - loss: 0.7834 - accuracy: 0.9784 - val_loss: 1.0560 - val_accuracy: 0.9000\n",
      "Epoch 40/100\n",
      "18/18 [==============================] - 3s 151ms/step - loss: 0.7616 - accuracy: 0.9730 - val_loss: 0.9862 - val_accuracy: 0.9000\n",
      "Epoch 41/100\n",
      "18/18 [==============================] - 3s 153ms/step - loss: 0.8050 - accuracy: 0.9586 - val_loss: 1.0354 - val_accuracy: 0.9071\n",
      "Epoch 42/100\n",
      "18/18 [==============================] - 3s 155ms/step - loss: 0.7846 - accuracy: 0.9514 - val_loss: 0.9243 - val_accuracy: 0.8929\n",
      "Epoch 43/100\n",
      "18/18 [==============================] - 3s 154ms/step - loss: 0.6903 - accuracy: 0.9820 - val_loss: 0.9110 - val_accuracy: 0.9071\n",
      "Epoch 44/100\n",
      "18/18 [==============================] - 3s 153ms/step - loss: 0.6365 - accuracy: 0.9802 - val_loss: 0.9042 - val_accuracy: 0.9143\n",
      "Epoch 45/100\n",
      "18/18 [==============================] - 3s 152ms/step - loss: 0.6400 - accuracy: 0.9640 - val_loss: 0.8778 - val_accuracy: 0.9000\n",
      "Epoch 46/100\n",
      "18/18 [==============================] - 3s 155ms/step - loss: 0.6458 - accuracy: 0.9586 - val_loss: 0.8148 - val_accuracy: 0.8643\n",
      "Epoch 47/100\n",
      "18/18 [==============================] - 3s 152ms/step - loss: 0.6171 - accuracy: 0.9712 - val_loss: 0.8562 - val_accuracy: 0.9143\n",
      "Epoch 48/100\n",
      "18/18 [==============================] - 3s 156ms/step - loss: 0.5635 - accuracy: 0.9766 - val_loss: 0.8045 - val_accuracy: 0.9071\n",
      "Epoch 49/100\n",
      "18/18 [==============================] - 3s 157ms/step - loss: 0.4983 - accuracy: 0.9892 - val_loss: 0.7298 - val_accuracy: 0.9214\n",
      "Epoch 50/100\n",
      "18/18 [==============================] - 3s 153ms/step - loss: 0.4583 - accuracy: 0.9892 - val_loss: 0.7571 - val_accuracy: 0.9071\n",
      "Epoch 51/100\n",
      "18/18 [==============================] - 3s 153ms/step - loss: 0.4329 - accuracy: 0.9874 - val_loss: 0.7788 - val_accuracy: 0.9071\n",
      "Epoch 52/100\n",
      "18/18 [==============================] - 3s 152ms/step - loss: 0.4188 - accuracy: 0.9874 - val_loss: 0.6624 - val_accuracy: 0.9214\n",
      "Epoch 53/100\n",
      "18/18 [==============================] - 3s 158ms/step - loss: 0.4056 - accuracy: 0.9892 - val_loss: 0.7750 - val_accuracy: 0.9214\n",
      "Epoch 54/100\n",
      "18/18 [==============================] - 3s 153ms/step - loss: 0.5223 - accuracy: 0.9317 - val_loss: 0.6883 - val_accuracy: 0.8714\n",
      "Epoch 55/100\n",
      "18/18 [==============================] - 3s 155ms/step - loss: 0.5125 - accuracy: 0.9353 - val_loss: 0.7184 - val_accuracy: 0.8857\n",
      "5/5 [==============================] - 0s 30ms/step - loss: 0.6624 - accuracy: 0.9214\n",
      "Test Accuracy: 92.14%\n"
     ]
    }
   ],
   "source": [
    "cust_hyper_cnn_rd(85,58,5,0.001,2,0.1,0.25, 32)"
   ]
  },
  {
   "cell_type": "code",
   "execution_count": 87,
   "id": "4323a4d1-ba2b-4fc7-a631-818e37025c5c",
   "metadata": {},
   "outputs": [
    {
     "name": "stdout",
     "output_type": "stream",
     "text": [
      "Epoch 1/100\n",
      "18/18 [==============================] - 4s 160ms/step - loss: 35.1182 - accuracy: 0.6888 - val_loss: 22.8573 - val_accuracy: 0.7929\n",
      "Epoch 2/100\n",
      "18/18 [==============================] - 3s 149ms/step - loss: 19.7945 - accuracy: 0.8112 - val_loss: 16.9614 - val_accuracy: 0.7857\n",
      "Epoch 3/100\n",
      "18/18 [==============================] - 3s 152ms/step - loss: 15.3834 - accuracy: 0.8076 - val_loss: 13.9460 - val_accuracy: 0.7929\n",
      "Epoch 4/100\n",
      "18/18 [==============================] - 3s 157ms/step - loss: 12.8428 - accuracy: 0.8147 - val_loss: 11.7784 - val_accuracy: 0.8000\n",
      "Epoch 5/100\n",
      "18/18 [==============================] - 3s 154ms/step - loss: 10.9199 - accuracy: 0.8094 - val_loss: 10.1332 - val_accuracy: 0.7857\n",
      "Epoch 6/100\n",
      "18/18 [==============================] - 3s 154ms/step - loss: 9.4401 - accuracy: 0.8273 - val_loss: 8.7571 - val_accuracy: 0.7929\n",
      "Epoch 7/100\n",
      "18/18 [==============================] - 3s 151ms/step - loss: 8.1941 - accuracy: 0.8345 - val_loss: 7.6285 - val_accuracy: 0.8357\n",
      "Epoch 8/100\n",
      "18/18 [==============================] - 3s 159ms/step - loss: 7.1990 - accuracy: 0.8417 - val_loss: 6.7667 - val_accuracy: 0.8643\n",
      "Epoch 9/100\n",
      "18/18 [==============================] - 3s 149ms/step - loss: 6.3191 - accuracy: 0.8561 - val_loss: 5.9377 - val_accuracy: 0.8571\n",
      "Epoch 10/100\n",
      "18/18 [==============================] - 3s 159ms/step - loss: 5.6403 - accuracy: 0.8561 - val_loss: 5.3044 - val_accuracy: 0.8429\n",
      "Epoch 11/100\n",
      "18/18 [==============================] - 3s 154ms/step - loss: 5.0008 - accuracy: 0.8669 - val_loss: 4.7409 - val_accuracy: 0.8357\n",
      "Epoch 12/100\n",
      "18/18 [==============================] - 3s 152ms/step - loss: 4.4472 - accuracy: 0.8705 - val_loss: 4.2121 - val_accuracy: 0.8357\n",
      "Epoch 13/100\n",
      "18/18 [==============================] - 3s 154ms/step - loss: 3.9729 - accuracy: 0.8903 - val_loss: 3.7605 - val_accuracy: 0.8857\n",
      "Epoch 14/100\n",
      "18/18 [==============================] - 3s 156ms/step - loss: 3.5547 - accuracy: 0.8723 - val_loss: 3.4129 - val_accuracy: 0.8500\n",
      "Epoch 15/100\n",
      "18/18 [==============================] - 3s 154ms/step - loss: 3.2076 - accuracy: 0.8795 - val_loss: 3.0934 - val_accuracy: 0.8714\n",
      "Epoch 16/100\n",
      "18/18 [==============================] - 3s 153ms/step - loss: 2.8471 - accuracy: 0.9083 - val_loss: 2.8069 - val_accuracy: 0.8786\n",
      "Epoch 17/100\n",
      "18/18 [==============================] - 3s 153ms/step - loss: 2.5447 - accuracy: 0.9083 - val_loss: 2.5414 - val_accuracy: 0.8571\n",
      "Epoch 18/100\n",
      "18/18 [==============================] - 3s 151ms/step - loss: 2.3045 - accuracy: 0.9047 - val_loss: 2.3223 - val_accuracy: 0.8643\n",
      "Epoch 19/100\n",
      "18/18 [==============================] - 3s 163ms/step - loss: 2.0623 - accuracy: 0.9083 - val_loss: 2.1211 - val_accuracy: 0.8429\n",
      "Epoch 20/100\n",
      "18/18 [==============================] - 3s 148ms/step - loss: 1.8547 - accuracy: 0.9317 - val_loss: 1.9234 - val_accuracy: 0.8714\n",
      "Epoch 21/100\n",
      "18/18 [==============================] - 3s 154ms/step - loss: 1.6856 - accuracy: 0.9245 - val_loss: 1.7614 - val_accuracy: 0.8500\n",
      "Epoch 22/100\n",
      "18/18 [==============================] - 3s 154ms/step - loss: 1.5304 - accuracy: 0.9209 - val_loss: 1.6523 - val_accuracy: 0.8643\n",
      "Epoch 23/100\n",
      "18/18 [==============================] - 3s 153ms/step - loss: 1.3931 - accuracy: 0.9388 - val_loss: 1.5140 - val_accuracy: 0.8714\n",
      "Epoch 24/100\n",
      "18/18 [==============================] - 3s 152ms/step - loss: 1.3212 - accuracy: 0.9245 - val_loss: 1.4225 - val_accuracy: 0.8714\n",
      "Epoch 25/100\n",
      "18/18 [==============================] - 3s 153ms/step - loss: 1.1929 - accuracy: 0.9191 - val_loss: 1.3612 - val_accuracy: 0.8571\n",
      "Epoch 26/100\n",
      "18/18 [==============================] - 3s 159ms/step - loss: 1.0828 - accuracy: 0.9388 - val_loss: 1.2062 - val_accuracy: 0.8643\n",
      "Epoch 27/100\n",
      "18/18 [==============================] - 3s 150ms/step - loss: 1.0121 - accuracy: 0.9299 - val_loss: 1.1263 - val_accuracy: 0.8500\n",
      "Epoch 28/100\n",
      "18/18 [==============================] - 3s 153ms/step - loss: 0.9241 - accuracy: 0.9317 - val_loss: 1.1560 - val_accuracy: 0.8286\n",
      "Epoch 29/100\n",
      "18/18 [==============================] - 3s 152ms/step - loss: 0.8565 - accuracy: 0.9442 - val_loss: 1.0231 - val_accuracy: 0.8500\n",
      "Epoch 30/100\n",
      "18/18 [==============================] - 3s 158ms/step - loss: 0.7944 - accuracy: 0.9353 - val_loss: 1.0888 - val_accuracy: 0.8286\n",
      "Epoch 31/100\n",
      "18/18 [==============================] - 3s 152ms/step - loss: 0.7408 - accuracy: 0.9371 - val_loss: 0.8797 - val_accuracy: 0.8643\n",
      "Epoch 32/100\n",
      "18/18 [==============================] - 3s 153ms/step - loss: 0.7032 - accuracy: 0.9442 - val_loss: 0.8911 - val_accuracy: 0.8357\n",
      "Epoch 33/100\n",
      "18/18 [==============================] - 3s 151ms/step - loss: 0.7085 - accuracy: 0.9317 - val_loss: 1.1104 - val_accuracy: 0.6571\n",
      "Epoch 34/100\n",
      "18/18 [==============================] - 3s 156ms/step - loss: 0.6776 - accuracy: 0.9119 - val_loss: 0.7899 - val_accuracy: 0.8714\n",
      "Epoch 35/100\n",
      "18/18 [==============================] - 3s 153ms/step - loss: 0.5785 - accuracy: 0.9424 - val_loss: 0.7631 - val_accuracy: 0.8357\n",
      "Epoch 36/100\n",
      "18/18 [==============================] - 3s 153ms/step - loss: 0.5794 - accuracy: 0.9173 - val_loss: 0.7037 - val_accuracy: 0.9071\n",
      "Epoch 37/100\n",
      "18/18 [==============================] - 3s 156ms/step - loss: 0.4966 - accuracy: 0.9478 - val_loss: 0.6927 - val_accuracy: 0.8786\n",
      "Epoch 38/100\n",
      "18/18 [==============================] - 3s 151ms/step - loss: 0.4487 - accuracy: 0.9658 - val_loss: 0.7506 - val_accuracy: 0.8500\n",
      "Epoch 39/100\n",
      "18/18 [==============================] - 3s 152ms/step - loss: 0.4743 - accuracy: 0.9299 - val_loss: 0.6700 - val_accuracy: 0.8714\n",
      "Epoch 40/100\n",
      "18/18 [==============================] - 3s 149ms/step - loss: 0.4044 - accuracy: 0.9658 - val_loss: 0.6984 - val_accuracy: 0.8357\n",
      "Epoch 41/100\n",
      "18/18 [==============================] - 3s 161ms/step - loss: 0.4583 - accuracy: 0.9442 - val_loss: 0.6562 - val_accuracy: 0.8643\n",
      "Epoch 42/100\n",
      "18/18 [==============================] - 3s 158ms/step - loss: 0.4252 - accuracy: 0.9586 - val_loss: 0.6195 - val_accuracy: 0.8571\n",
      "Epoch 43/100\n",
      "18/18 [==============================] - 3s 160ms/step - loss: 0.3910 - accuracy: 0.9496 - val_loss: 0.6573 - val_accuracy: 0.8714\n",
      "Epoch 44/100\n",
      "18/18 [==============================] - 3s 158ms/step - loss: 0.3905 - accuracy: 0.9532 - val_loss: 0.5477 - val_accuracy: 0.8929\n",
      "Epoch 45/100\n",
      "18/18 [==============================] - 3s 156ms/step - loss: 0.3467 - accuracy: 0.9748 - val_loss: 0.5850 - val_accuracy: 0.8714\n",
      "Epoch 46/100\n",
      "18/18 [==============================] - 3s 156ms/step - loss: 0.3138 - accuracy: 0.9766 - val_loss: 0.5917 - val_accuracy: 0.8786\n",
      "Epoch 47/100\n",
      "18/18 [==============================] - 3s 158ms/step - loss: 0.2862 - accuracy: 0.9694 - val_loss: 0.5489 - val_accuracy: 0.8714\n",
      "5/5 [==============================] - 0s 33ms/step - loss: 0.5477 - accuracy: 0.8929\n",
      "Test Accuracy: 89.29%\n"
     ]
    }
   ],
   "source": [
    "cust_hyper_cnn_rd(85,58,5,0.001,2,0.2,0.3, 32)"
   ]
  },
  {
   "cell_type": "code",
   "execution_count": 115,
   "id": "52edba59-0968-4732-bc21-a62c47725b3c",
   "metadata": {},
   "outputs": [],
   "source": [
    "from sklearn.metrics import confusion_matrix, ConfusionMatrixDisplay\n",
    "from sklearn.metrics import f1_score"
   ]
  },
  {
   "cell_type": "code",
   "execution_count": 116,
   "id": "8d77f525-66a6-4fb3-b0e2-b16479320f9a",
   "metadata": {},
   "outputs": [],
   "source": [
    "def cust_hyper_cnn_rd(filter,unit,ksize,lrate,num_of_layers,reg,dropout,bs):\n",
    "    model = Sequential()\n",
    "    model.add(Conv2D(filter, (ksize, ksize), activation='relu', input_shape=(50, 50, 3)))\n",
    "    for i in range(num_of_layers):\n",
    "        model.add(MaxPooling2D((2, 2)))\n",
    "        model.add(Conv2D(filter, (ksize, ksize), activation='relu', kernel_regularizer=l2(reg)))\n",
    "        model.add(Dropout(dropout))\n",
    "    model.add(Flatten())\n",
    "    model.add(Dense(unit, activation='relu'))\n",
    "    model.add(Dense(1, activation='sigmoid'))\n",
    "\n",
    "    model.compile(optimizer=Adam(learning_rate=lrate), loss='binary_crossentropy', metrics=['accuracy'])\n",
    "\n",
    "    history = model.fit(X_train, y_train, batch_size=bs, epochs=100, validation_data=(X_test, y_test), callbacks=[early_stopping])\n",
    "\n",
    "    test_loss, test_accuracy = model.evaluate(X_test, y_test)\n",
    "    print(f\"Test Accuracy: {test_accuracy * 100:.2f}%\")\n",
    "\n",
    "    y_pred = np.round(model.predict(X_test)).astype(int)\n",
    "    cm = confusion_matrix(y_test,y_pred)\n",
    "    disp = ConfusionMatrixDisplay(confusion_matrix=cm, display_labels=['Without Helmet', 'With Helmet'])\n",
    "    disp.plot(cmap='Blues')\n",
    "    plt.title('Confusion Matrix')\n",
    "    plt.show()\n",
    "\n",
    "    f1 = f1_score(y_test, y_pred)\n",
    "    print(f\"F1 Score: {f1:.4f}\")"
   ]
  },
  {
   "cell_type": "code",
   "execution_count": 117,
   "id": "756c732f-3bce-49be-a776-601d024fa9e2",
   "metadata": {},
   "outputs": [
    {
     "name": "stdout",
     "output_type": "stream",
     "text": [
      "Epoch 1/100\n",
      "18/18 [==============================] - 3s 113ms/step - loss: 20.1715 - accuracy: 0.7266 - val_loss: 12.3637 - val_accuracy: 0.8071\n",
      "Epoch 2/100\n",
      "18/18 [==============================] - 2s 107ms/step - loss: 10.8415 - accuracy: 0.8022 - val_loss: 9.4464 - val_accuracy: 0.8143\n",
      "Epoch 3/100\n",
      "18/18 [==============================] - 2s 110ms/step - loss: 8.6642 - accuracy: 0.8273 - val_loss: 7.9000 - val_accuracy: 0.7929\n",
      "Epoch 4/100\n",
      "18/18 [==============================] - 2s 108ms/step - loss: 7.3955 - accuracy: 0.8273 - val_loss: 6.8754 - val_accuracy: 0.7857\n",
      "Epoch 5/100\n",
      "18/18 [==============================] - 2s 111ms/step - loss: 6.4094 - accuracy: 0.8435 - val_loss: 6.0527 - val_accuracy: 0.8571\n",
      "Epoch 6/100\n",
      "18/18 [==============================] - 2s 111ms/step - loss: 5.6968 - accuracy: 0.8363 - val_loss: 5.4239 - val_accuracy: 0.8286\n",
      "Epoch 7/100\n",
      "18/18 [==============================] - 2s 112ms/step - loss: 5.0848 - accuracy: 0.8507 - val_loss: 4.8461 - val_accuracy: 0.8714\n",
      "Epoch 8/100\n",
      "18/18 [==============================] - 2s 132ms/step - loss: 4.5939 - accuracy: 0.8813 - val_loss: 4.3965 - val_accuracy: 0.8786\n",
      "Epoch 9/100\n",
      "18/18 [==============================] - 3s 148ms/step - loss: 4.1249 - accuracy: 0.8705 - val_loss: 4.0119 - val_accuracy: 0.8143\n",
      "Epoch 10/100\n",
      "18/18 [==============================] - 3s 141ms/step - loss: 3.7339 - accuracy: 0.9065 - val_loss: 3.6503 - val_accuracy: 0.8786\n",
      "Epoch 11/100\n",
      "18/18 [==============================] - 3s 144ms/step - loss: 3.3772 - accuracy: 0.9353 - val_loss: 3.3318 - val_accuracy: 0.8714\n",
      "Epoch 12/100\n",
      "18/18 [==============================] - 3s 142ms/step - loss: 3.1384 - accuracy: 0.9101 - val_loss: 3.1382 - val_accuracy: 0.8286\n",
      "Epoch 13/100\n",
      "18/18 [==============================] - 3s 142ms/step - loss: 2.8688 - accuracy: 0.9119 - val_loss: 2.9238 - val_accuracy: 0.8571\n",
      "Epoch 14/100\n",
      "18/18 [==============================] - 3s 142ms/step - loss: 2.6598 - accuracy: 0.9083 - val_loss: 2.7540 - val_accuracy: 0.8357\n",
      "Epoch 15/100\n",
      "18/18 [==============================] - 3s 145ms/step - loss: 2.4242 - accuracy: 0.9263 - val_loss: 2.5934 - val_accuracy: 0.8071\n",
      "Epoch 16/100\n",
      "18/18 [==============================] - 3s 147ms/step - loss: 2.2849 - accuracy: 0.8939 - val_loss: 2.4078 - val_accuracy: 0.8071\n",
      "Epoch 17/100\n",
      "18/18 [==============================] - 3s 142ms/step - loss: 2.0745 - accuracy: 0.9299 - val_loss: 2.1848 - val_accuracy: 0.8643\n",
      "Epoch 18/100\n",
      "18/18 [==============================] - 3s 142ms/step - loss: 1.9434 - accuracy: 0.9245 - val_loss: 2.0731 - val_accuracy: 0.8643\n",
      "Epoch 19/100\n",
      "18/18 [==============================] - 3s 144ms/step - loss: 1.7790 - accuracy: 0.9496 - val_loss: 1.9247 - val_accuracy: 0.8714\n",
      "Epoch 20/100\n",
      "18/18 [==============================] - 3s 143ms/step - loss: 1.6499 - accuracy: 0.9388 - val_loss: 1.8958 - val_accuracy: 0.8286\n",
      "Epoch 21/100\n",
      "18/18 [==============================] - 3s 142ms/step - loss: 1.5145 - accuracy: 0.9514 - val_loss: 1.6482 - val_accuracy: 0.8857\n",
      "Epoch 22/100\n",
      "18/18 [==============================] - 3s 146ms/step - loss: 1.4359 - accuracy: 0.9388 - val_loss: 1.7722 - val_accuracy: 0.7786\n",
      "Epoch 23/100\n",
      "18/18 [==============================] - 3s 144ms/step - loss: 1.3737 - accuracy: 0.9388 - val_loss: 1.5549 - val_accuracy: 0.8857\n",
      "Epoch 24/100\n",
      "18/18 [==============================] - 3s 151ms/step - loss: 1.2201 - accuracy: 0.9658 - val_loss: 1.4365 - val_accuracy: 0.8929\n",
      "Epoch 25/100\n",
      "18/18 [==============================] - 3s 148ms/step - loss: 1.1244 - accuracy: 0.9694 - val_loss: 1.3344 - val_accuracy: 0.8643\n",
      "Epoch 26/100\n",
      "18/18 [==============================] - 3s 148ms/step - loss: 1.0401 - accuracy: 0.9604 - val_loss: 1.2780 - val_accuracy: 0.8714\n",
      "Epoch 27/100\n",
      "18/18 [==============================] - 3s 147ms/step - loss: 0.9700 - accuracy: 0.9694 - val_loss: 1.2614 - val_accuracy: 0.8714\n",
      "Epoch 28/100\n",
      "18/18 [==============================] - 3s 147ms/step - loss: 0.8967 - accuracy: 0.9712 - val_loss: 1.2027 - val_accuracy: 0.8214\n",
      "Epoch 29/100\n",
      "18/18 [==============================] - 3s 147ms/step - loss: 0.8899 - accuracy: 0.9532 - val_loss: 1.0936 - val_accuracy: 0.9143\n",
      "Epoch 30/100\n",
      "18/18 [==============================] - 3s 150ms/step - loss: 0.8180 - accuracy: 0.9622 - val_loss: 1.0365 - val_accuracy: 0.8857\n",
      "Epoch 31/100\n",
      "18/18 [==============================] - 3s 152ms/step - loss: 0.7629 - accuracy: 0.9694 - val_loss: 1.0497 - val_accuracy: 0.8714\n",
      "Epoch 32/100\n",
      "18/18 [==============================] - 3s 150ms/step - loss: 0.7622 - accuracy: 0.9514 - val_loss: 0.9733 - val_accuracy: 0.8929\n",
      "Epoch 33/100\n",
      "18/18 [==============================] - 3s 147ms/step - loss: 0.6922 - accuracy: 0.9586 - val_loss: 0.9701 - val_accuracy: 0.8500\n",
      "Epoch 34/100\n",
      "18/18 [==============================] - 3s 149ms/step - loss: 0.6617 - accuracy: 0.9640 - val_loss: 0.9712 - val_accuracy: 0.8714\n",
      "Epoch 35/100\n",
      "18/18 [==============================] - 3s 146ms/step - loss: 0.6175 - accuracy: 0.9658 - val_loss: 0.8740 - val_accuracy: 0.8786\n",
      "Epoch 36/100\n",
      "18/18 [==============================] - 3s 150ms/step - loss: 0.5850 - accuracy: 0.9640 - val_loss: 0.8964 - val_accuracy: 0.8714\n",
      "Epoch 37/100\n",
      "18/18 [==============================] - 3s 148ms/step - loss: 0.6413 - accuracy: 0.9371 - val_loss: 0.9306 - val_accuracy: 0.8500\n",
      "Epoch 38/100\n",
      "18/18 [==============================] - 3s 148ms/step - loss: 0.5956 - accuracy: 0.9586 - val_loss: 0.9014 - val_accuracy: 0.8571\n",
      "5/5 [==============================] - 0s 31ms/step - loss: 0.8740 - accuracy: 0.8786\n",
      "Test Accuracy: 87.86%\n",
      "5/5 [==============================] - 0s 29ms/step\n"
     ]
    },
    {
     "data": {
      "image/png": "[encoded data removed]",
      "text/plain": [
       "<Figure size 640x480 with 2 Axes>"
      ]
     },
     "metadata": {},
     "output_type": "display_data"
    },
    {
     "name": "stdout",
     "output_type": "stream",
     "text": [
      "F1 Score: 0.9217\n"
     ]
    }
   ],
   "source": [
    "cust_hyper_cnn_rd(85,58,5,0.001,2,0.1,0.25, 32)"
   ]
  },
  {
   "cell_type": "code",
   "execution_count": 118,
   "id": "16f7eeb3-4c73-4875-8d8a-2855671bfc48",
   "metadata": {},
   "outputs": [
    {
     "name": "stdout",
     "output_type": "stream",
     "text": [
      "110\n",
      "30\n"
     ]
    }
   ],
   "source": [
    "print(np.count_nonzero(y_test == 1))\n",
    "print(np.count_nonzero(y_test == 0))"
   ]
  },
  {
   "cell_type": "code",
   "execution_count": null,
   "id": "3ad8446a-9713-427c-ae40-67bb031f9eca",
   "metadata": {},
   "outputs": [],
   "source": []
  }
 ],
 "metadata": {
  "kernelspec": {
   "display_name": "Python 3 (ipykernel)",
   "language": "python",
   "name": "python3"
  },
  "language_info": {
   "codemirror_mode": {
    "name": "ipython",
    "version": 3
   },
   "file_extension": ".py",
   "mimetype": "text/x-python",
   "name": "python",
   "nbconvert_exporter": "python",
   "pygments_lexer": "ipython3",
   "version": "3.11.6"
  }
 },
 "nbformat": 4,
 "nbformat_minor": 5
}
