{
 "cells": [
  {
   "cell_type": "code",
   "execution_count": 1,
   "id": "3c995f9b-8a45-4896-a48d-a5938450b75f",
   "metadata": {},
   "outputs": [],
   "source": [
    "import tensorflow as tf\n",
    "from tensorflow.keras.models import Sequential\n",
    "from tensorflow.keras.layers import Conv2D, MaxPooling2D, Flatten, Dense\n",
    "from tensorflow.keras.callbacks import EarlyStopping\n",
    "from tensorflow.keras.optimizers import Adam\n",
    "\n",
    "import os\n",
    "from PIL import Image\n",
    "import numpy as np\n",
    "from sklearn.model_selection import train_test_split\n",
    "import matplotlib.pyplot as plt"
   ]
  },
  {
   "cell_type": "code",
   "execution_count": 2,
   "id": "8847954c-ac90-4884-af78-09c4b7399b8e",
   "metadata": {},
   "outputs": [],
   "source": [
    "folder_path = 'Data/images/cropped_50'\n",
    "image_size = (50, 50)"
   ]
  },
  {
   "cell_type": "code",
   "execution_count": 3,
   "id": "e889aeb5-2d4e-4f9d-b3b9-c802c14d6755",
   "metadata": {},
   "outputs": [],
   "source": [
    "def load_data_from_folder(folder):\n",
    "    images = []\n",
    "    labels = []\n",
    "    for filename in os.listdir(folder):\n",
    "        img_path = os.path.join(folder, filename)\n",
    "        img = tf.keras.preprocessing.image.load_img(img_path, target_size=image_size)\n",
    "        img_array = tf.keras.preprocessing.image.img_to_array(img)\n",
    "        label = 1 if filename.endswith('T.png') else 0  # 1 for 'T' (with helmet), 0 for 'F' (without helmet)\n",
    "        images.append(img_array)\n",
    "        labels.append(label)\n",
    "    return np.array(images), np.array(labels)"
   ]
  },
  {
   "cell_type": "code",
   "execution_count": 4,
   "id": "8033d20d-06a2-44d6-ac8f-b958a1faec1a",
   "metadata": {},
   "outputs": [],
   "source": [
    "images, labels = load_data_from_folder(folder_path)\n",
    "\n",
    "X_train, X_test, y_train, y_test = train_test_split(\n",
    "    images, labels, test_size=0.2, random_state=42\n",
    ")"
   ]
  },
  {
   "cell_type": "code",
   "execution_count": 5,
   "id": "7f764d1e-4803-4879-b267-7075f6c158f6",
   "metadata": {},
   "outputs": [
    {
     "name": "stdout",
     "output_type": "stream",
     "text": [
      "(556, 50, 50, 3)\n",
      "(140, 50, 50, 3)\n"
     ]
    }
   ],
   "source": [
    "print(X_train.shape)\n",
    "print(X_test.shape)"
   ]
  },
  {
   "cell_type": "code",
   "execution_count": 6,
   "id": "8c8bf62d-d163-45e9-8a6f-34b3a390872d",
   "metadata": {},
   "outputs": [],
   "source": [
    "model = Sequential()\n",
    "model.add(Conv2D(16, (5, 5), activation='relu', input_shape=(50, 50, 3)))\n",
    "model.add(MaxPooling2D((2, 2)))\n",
    "model.add(Conv2D(128, (5, 5), activation='relu'))\n",
    "model.add(MaxPooling2D((2, 2)))\n",
    "model.add(Conv2D(128, (5, 5), activation='relu'))\n",
    "model.add(Flatten())\n",
    "model.add(Dense(64, activation='relu'))\n",
    "model.add(Dense(1, activation='sigmoid'))"
   ]
  },
  {
   "cell_type": "code",
   "execution_count": 7,
   "id": "4fd8b9fc-57e7-41fb-aa08-7b3d4435d22b",
   "metadata": {},
   "outputs": [],
   "source": [
    "early_stopping = EarlyStopping(monitor='val_loss', patience=3, restore_best_weights=True)"
   ]
  },
  {
   "cell_type": "code",
   "execution_count": 8,
   "id": "4634fb74-2b76-427d-ab94-11ec9d6b7daa",
   "metadata": {},
   "outputs": [
    {
     "name": "stdout",
     "output_type": "stream",
     "text": [
      "Epoch 1/50\n",
      "18/18 [==============================] - 2s 83ms/step - loss: 10.7061 - accuracy: 0.6727 - val_loss: 0.8937 - val_accuracy: 0.7857\n",
      "Epoch 2/50\n",
      "18/18 [==============================] - 1s 70ms/step - loss: 0.4981 - accuracy: 0.8040 - val_loss: 0.4187 - val_accuracy: 0.7857\n",
      "Epoch 3/50\n",
      "18/18 [==============================] - 1s 71ms/step - loss: 0.3661 - accuracy: 0.8219 - val_loss: 0.3800 - val_accuracy: 0.8571\n",
      "Epoch 4/50\n",
      "18/18 [==============================] - 1s 78ms/step - loss: 0.3152 - accuracy: 0.8615 - val_loss: 0.3877 - val_accuracy: 0.8000\n",
      "Epoch 5/50\n",
      "18/18 [==============================] - 1s 73ms/step - loss: 0.2897 - accuracy: 0.8579 - val_loss: 0.3427 - val_accuracy: 0.8857\n",
      "Epoch 6/50\n",
      "18/18 [==============================] - 1s 78ms/step - loss: 0.1801 - accuracy: 0.9353 - val_loss: 0.2631 - val_accuracy: 0.8857\n",
      "Epoch 7/50\n",
      "18/18 [==============================] - 1s 82ms/step - loss: 0.1084 - accuracy: 0.9586 - val_loss: 0.2599 - val_accuracy: 0.8929\n",
      "Epoch 8/50\n",
      "18/18 [==============================] - 1s 72ms/step - loss: 0.0956 - accuracy: 0.9622 - val_loss: 0.3065 - val_accuracy: 0.9071\n",
      "Epoch 9/50\n",
      "18/18 [==============================] - 1s 73ms/step - loss: 0.0433 - accuracy: 0.9892 - val_loss: 0.3320 - val_accuracy: 0.9071\n",
      "Epoch 10/50\n",
      "18/18 [==============================] - 1s 72ms/step - loss: 0.0274 - accuracy: 0.9946 - val_loss: 0.5344 - val_accuracy: 0.8714\n",
      "5/5 [==============================] - 0s 17ms/step - loss: 0.2599 - accuracy: 0.8929\n",
      "Test Accuracy: 89.29%\n"
     ]
    }
   ],
   "source": [
    "model.compile(optimizer=Adam(learning_rate=0.001), loss='binary_crossentropy', metrics=['accuracy'])\n",
    "\n",
    "history = model.fit(X_train, y_train, epochs=50, validation_data=(X_test, y_test), callbacks=[early_stopping])\n",
    "\n",
    "test_loss, test_accuracy = model.evaluate(X_test, y_test)\n",
    "print(f\"Test Accuracy: {test_accuracy * 100:.2f}%\")\n",
    "\n",
    "model.save('helmet_detection_model.keras')"
   ]
  },
  {
   "cell_type": "code",
   "execution_count": 9,
   "id": "595effbf-0344-4104-b418-b65b57f5408d",
   "metadata": {},
   "outputs": [
    {
     "data": {
      "image/png": "[encoded data removed]",
      "text/plain": [
       "<Figure size 640x480 with 1 Axes>"
      ]
     },
     "metadata": {},
     "output_type": "display_data"
    }
   ],
   "source": [
    "plt.plot(history.history['loss'], label='Training Loss')\n",
    "plt.plot(history.history['val_loss'], label='Validation Loss')\n",
    "plt.title('Training and Validation Loss')\n",
    "plt.xlabel('Epoch')\n",
    "plt.ylabel('Loss')\n",
    "plt.legend()\n",
    "plt.show()"
   ]
  },
  {
   "cell_type": "markdown",
   "id": "e26e2ad3-186a-420a-bb6a-5483db3b6962",
   "metadata": {},
   "source": [
    "Auto Hyperparameter tuning"
   ]
  },
  {
   "cell_type": "code",
   "execution_count": 10,
   "id": "232ba37a-d23d-4cc3-8e1d-6340110107e5",
   "metadata": {},
   "outputs": [
    {
     "name": "stderr",
     "output_type": "stream",
     "text": [
      "C:\\Users\\WHR\\AppData\\Local\\Programs\\Python\\Python311\\Lib\\site-packages\\tqdm\\auto.py:21: TqdmWarning: IProgress not found. Please update jupyter and ipywidgets. See https://ipywidgets.readthedocs.io/en/stable/user_install.html\n",
      "  from .autonotebook import tqdm as notebook_tqdm\n"
     ]
    }
   ],
   "source": [
    "import optuna"
   ]
  },
  {
   "cell_type": "code",
   "execution_count": 11,
   "id": "2e6ac78b-a8e0-4f92-a434-11bc7ef6a7c7",
   "metadata": {},
   "outputs": [],
   "source": [
    "def create_cnn_model(trial):\n",
    "    model = Sequential()\n",
    "    model.add(Conv2D(filters=trial.suggest_int('fileters',16,128,log=True), kernel_size=(5,5), activation='relu', input_shape=(50, 50, 3)))\n",
    "    model.add(MaxPooling2D((2, 2)))\n",
    "    model.add(Conv2D(filters=trial.suggest_int('fileters',16,128,log=True), kernel_size=(5,5), activation='relu'))\n",
    "    model.add(MaxPooling2D((2, 2)))\n",
    "    model.add(Conv2D(filters=trial.suggest_int('fileters',16,128,log=True), kernel_size=(5,5), activation='relu'))\n",
    "    model.add(Flatten())\n",
    "    model.add(Dense(units=trial.suggest_int('units',32,256,log=True), activation='relu'))\n",
    "    model.add(Dense(1, activation='sigmoid'))\n",
    "\n",
    "    model.compile(optimizer=Adam(learning_rate=0.001), loss='binary_crossentropy', metrics=['accuracy'])\n",
    "    \n",
    "    return model"
   ]
  },
  {
   "cell_type": "code",
   "execution_count": 12,
   "id": "01568283-6c0d-437c-8912-430090880267",
   "metadata": {},
   "outputs": [],
   "source": [
    "def objective(trial):\n",
    "    model = create_cnn_model(trial)\n",
    "    model.fit(X_train, y_train, epochs=50, validation_data=(X_test, y_test), callbacks=[early_stopping], verbose=0)\n",
    "    score = model.evaluate(X_test,y_test,verbose=0)\n",
    "    return score[1]"
   ]
  },
  {
   "cell_type": "code",
   "execution_count": 14,
   "id": "a26cbd5d-74b0-4b61-a088-594e6dc731c5",
   "metadata": {},
   "outputs": [
    {
     "name": "stderr",
     "output_type": "stream",
     "text": [
      "[I 2023-11-18 21:09:34,574] A new study created in memory with name: no-name-7f31b156-4d81-42a9-ae0d-be9611deea76\n",
      "[I 2023-11-18 21:10:30,663] Trial 0 finished with value: 0.8857142925262451 and parameters: {'fileters': 95, 'units': 107}. Best is trial 0 with value: 0.8857142925262451.\n",
      "[I 2023-11-18 21:10:39,478] Trial 1 finished with value: 0.8500000238418579 and parameters: {'fileters': 33, 'units': 71}. Best is trial 0 with value: 0.8857142925262451.\n",
      "[I 2023-11-18 21:10:52,190] Trial 2 finished with value: 0.9071428775787354 and parameters: {'fileters': 53, 'units': 36}. Best is trial 2 with value: 0.9071428775787354.\n",
      "[I 2023-11-18 21:11:14,976] Trial 3 finished with value: 0.8857142925262451 and parameters: {'fileters': 89, 'units': 222}. Best is trial 2 with value: 0.9071428775787354.\n",
      "[I 2023-11-18 21:11:24,658] Trial 4 finished with value: 0.8785714507102966 and parameters: {'fileters': 29, 'units': 32}. Best is trial 2 with value: 0.9071428775787354.\n",
      "[I 2023-11-18 21:11:39,146] Trial 5 finished with value: 0.8999999761581421 and parameters: {'fileters': 45, 'units': 60}. Best is trial 2 with value: 0.9071428775787354.\n",
      "[I 2023-11-18 21:11:52,338] Trial 6 finished with value: 0.8357142806053162 and parameters: {'fileters': 63, 'units': 36}. Best is trial 2 with value: 0.9071428775787354.\n",
      "[I 2023-11-18 21:12:03,319] Trial 7 finished with value: 0.8785714507102966 and parameters: {'fileters': 47, 'units': 75}. Best is trial 2 with value: 0.9071428775787354.\n",
      "[I 2023-11-18 21:12:27,160] Trial 8 finished with value: 0.8642857074737549 and parameters: {'fileters': 61, 'units': 49}. Best is trial 2 with value: 0.9071428775787354.\n",
      "[I 2023-11-18 21:12:42,934] Trial 9 finished with value: 0.8785714507102966 and parameters: {'fileters': 34, 'units': 120}. Best is trial 2 with value: 0.9071428775787354.\n",
      "[I 2023-11-18 21:12:49,035] Trial 10 finished with value: 0.8571428656578064 and parameters: {'fileters': 21, 'units': 50}. Best is trial 2 with value: 0.9071428775787354.\n",
      "[I 2023-11-18 21:13:04,842] Trial 11 finished with value: 0.8928571343421936 and parameters: {'fileters': 50, 'units': 47}. Best is trial 2 with value: 0.9071428775787354.\n",
      "[I 2023-11-18 21:14:07,895] Trial 12 finished with value: 0.9142857193946838 and parameters: {'fileters': 116, 'units': 33}. Best is trial 12 with value: 0.9142857193946838.\n",
      "[I 2023-11-18 21:15:02,024] Trial 13 finished with value: 0.8571428656578064 and parameters: {'fileters': 123, 'units': 32}. Best is trial 12 with value: 0.9142857193946838.\n",
      "[I 2023-11-18 21:15:17,161] Trial 14 finished with value: 0.8857142925262451 and parameters: {'fileters': 85, 'units': 40}. Best is trial 12 with value: 0.9142857193946838.\n",
      "[I 2023-11-18 21:16:21,151] Trial 15 finished with value: 0.9071428775787354 and parameters: {'fileters': 123, 'units': 41}. Best is trial 12 with value: 0.9142857193946838.\n",
      "[I 2023-11-18 21:16:54,374] Trial 16 finished with value: 0.9214285612106323 and parameters: {'fileters': 69, 'units': 54}. Best is trial 16 with value: 0.9214285612106323.\n",
      "[I 2023-11-18 21:17:07,364] Trial 17 finished with value: 0.9142857193946838 and parameters: {'fileters': 75, 'units': 56}. Best is trial 16 with value: 0.9214285612106323.\n",
      "[I 2023-11-18 21:17:34,021] Trial 18 finished with value: 0.8642857074737549 and parameters: {'fileters': 101, 'units': 42}. Best is trial 16 with value: 0.9214285612106323.\n",
      "[I 2023-11-18 21:18:11,850] Trial 19 finished with value: 0.8928571343421936 and parameters: {'fileters': 72, 'units': 66}. Best is trial 16 with value: 0.9214285612106323.\n",
      "[I 2023-11-18 21:18:52,070] Trial 20 finished with value: 0.8999999761581421 and parameters: {'fileters': 108, 'units': 53}. Best is trial 16 with value: 0.9214285612106323.\n",
      "[I 2023-11-18 21:19:23,511] Trial 21 finished with value: 0.9071428775787354 and parameters: {'fileters': 76, 'units': 58}. Best is trial 16 with value: 0.9214285612106323.\n",
      "[I 2023-11-18 21:19:52,676] Trial 22 finished with value: 0.8999999761581421 and parameters: {'fileters': 73, 'units': 45}. Best is trial 16 with value: 0.9214285612106323.\n",
      "[I 2023-11-18 21:20:21,977] Trial 23 finished with value: 0.9357143044471741 and parameters: {'fileters': 85, 'units': 58}. Best is trial 23 with value: 0.9357143044471741.\n",
      "[I 2023-11-18 21:20:47,359] Trial 24 finished with value: 0.8785714507102966 and parameters: {'fileters': 107, 'units': 70}. Best is trial 23 with value: 0.9357143044471741.\n",
      "[I 2023-11-18 21:21:15,771] Trial 25 finished with value: 0.8785714507102966 and parameters: {'fileters': 90, 'units': 40}. Best is trial 23 with value: 0.9357143044471741.\n",
      "[I 2023-11-18 21:21:55,964] Trial 26 finished with value: 0.8999999761581421 and parameters: {'fileters': 128, 'units': 77}. Best is trial 23 with value: 0.9357143044471741.\n",
      "[I 2023-11-18 21:22:14,991] Trial 27 finished with value: 0.8857142925262451 and parameters: {'fileters': 60, 'units': 85}. Best is trial 23 with value: 0.9357143044471741.\n",
      "[I 2023-11-18 21:22:56,914] Trial 28 finished with value: 0.8785714507102966 and parameters: {'fileters': 101, 'units': 61}. Best is trial 23 with value: 0.9357143044471741.\n",
      "[I 2023-11-18 21:23:23,188] Trial 29 finished with value: 0.8999999761581421 and parameters: {'fileters': 85, 'units': 99}. Best is trial 23 with value: 0.9357143044471741.\n",
      "[I 2023-11-18 21:23:53,670] Trial 30 finished with value: 0.9071428775787354 and parameters: {'fileters': 95, 'units': 52}. Best is trial 23 with value: 0.9357143044471741.\n",
      "[I 2023-11-18 21:24:16,460] Trial 31 finished with value: 0.9142857193946838 and parameters: {'fileters': 74, 'units': 54}. Best is trial 23 with value: 0.9357143044471741.\n",
      "[I 2023-11-18 21:24:55,591] Trial 32 finished with value: 0.8999999761581421 and parameters: {'fileters': 83, 'units': 64}. Best is trial 23 with value: 0.9357143044471741.\n",
      "[I 2023-11-18 21:25:21,520] Trial 33 finished with value: 0.8928571343421936 and parameters: {'fileters': 63, 'units': 45}. Best is trial 23 with value: 0.9357143044471741.\n",
      "[I 2023-11-18 21:25:55,654] Trial 34 finished with value: 0.8928571343421936 and parameters: {'fileters': 108, 'units': 36}. Best is trial 23 with value: 0.9357143044471741.\n",
      "[I 2023-11-18 21:26:15,234] Trial 35 finished with value: 0.8928571343421936 and parameters: {'fileters': 55, 'units': 56}. Best is trial 23 with value: 0.9357143044471741.\n",
      "[I 2023-11-18 21:26:39,140] Trial 36 finished with value: 0.9071428775787354 and parameters: {'fileters': 69, 'units': 65}. Best is trial 23 with value: 0.9357143044471741.\n",
      "[I 2023-11-18 21:27:06,752] Trial 37 finished with value: 0.8857142925262451 and parameters: {'fileters': 80, 'units': 32}. Best is trial 23 with value: 0.9357143044471741.\n",
      "[I 2023-11-18 21:27:38,781] Trial 38 finished with value: 0.8999999761581421 and parameters: {'fileters': 93, 'units': 57}. Best is trial 23 with value: 0.9357143044471741.\n",
      "[I 2023-11-18 21:28:09,271] Trial 39 finished with value: 0.8571428656578064 and parameters: {'fileters': 66, 'units': 48}. Best is trial 23 with value: 0.9357143044471741.\n",
      "[I 2023-11-18 21:28:34,796] Trial 40 finished with value: 0.9071428775787354 and parameters: {'fileters': 55, 'units': 80}. Best is trial 23 with value: 0.9357143044471741.\n",
      "[I 2023-11-18 21:29:04,485] Trial 41 finished with value: 0.8928571343421936 and parameters: {'fileters': 76, 'units': 53}. Best is trial 23 with value: 0.9357143044471741.\n",
      "[I 2023-11-18 21:29:31,094] Trial 42 finished with value: 0.8785714507102966 and parameters: {'fileters': 68, 'units': 71}. Best is trial 23 with value: 0.9357143044471741.\n",
      "[I 2023-11-18 21:29:56,858] Trial 43 finished with value: 0.8285714387893677 and parameters: {'fileters': 78, 'units': 58}. Best is trial 23 with value: 0.9357143044471741.\n",
      "[I 2023-11-18 21:30:25,873] Trial 44 finished with value: 0.8857142925262451 and parameters: {'fileters': 88, 'units': 37}. Best is trial 23 with value: 0.9357143044471741.\n",
      "[I 2023-11-18 21:30:48,992] Trial 45 finished with value: 0.9214285612106323 and parameters: {'fileters': 70, 'units': 49}. Best is trial 23 with value: 0.9357143044471741.\n",
      "[I 2023-11-18 21:30:57,654] Trial 46 finished with value: 0.8642857074737549 and parameters: {'fileters': 42, 'units': 45}. Best is trial 23 with value: 0.9357143044471741.\n",
      "[I 2023-11-18 21:31:21,716] Trial 47 finished with value: 0.9214285612106323 and parameters: {'fileters': 62, 'units': 49}. Best is trial 23 with value: 0.9357143044471741.\n",
      "[I 2023-11-18 21:31:37,656] Trial 48 finished with value: 0.8785714507102966 and parameters: {'fileters': 59, 'units': 36}. Best is trial 23 with value: 0.9357143044471741.\n",
      "[I 2023-11-18 21:31:57,441] Trial 49 finished with value: 0.8714285492897034 and parameters: {'fileters': 65, 'units': 50}. Best is trial 23 with value: 0.9357143044471741.\n"
     ]
    },
    {
     "name": "stdout",
     "output_type": "stream",
     "text": [
      "Best trial - Accuracy: 0.9357, Parameters: {'fileters': 85, 'units': 58}\n"
     ]
    }
   ],
   "source": [
    "study = optuna.create_study(direction='maximize')\n",
    "study.optimize(objective, n_trials=50)\n",
    "best_trial = study.best_trial\n",
    "print(f\"Best trial - Accuracy: {best_trial.value:.4f}, Parameters: {best_trial.params}\")"
   ]
  },
  {
   "cell_type": "code",
   "execution_count": null,
   "id": "1d2c6c19-6f3d-411c-8484-037c69942c7d",
   "metadata": {},
   "outputs": [],
   "source": []
  }
 ],
 "metadata": {
  "kernelspec": {
   "display_name": "Python 3 (ipykernel)",
   "language": "python",
   "name": "python3"
  },
  "language_info": {
   "codemirror_mode": {
    "name": "ipython",
    "version": 3
   },
   "file_extension": ".py",
   "mimetype": "text/x-python",
   "name": "python",
   "nbconvert_exporter": "python",
   "pygments_lexer": "ipython3",
   "version": "3.11.6"
  }
 },
 "nbformat": 4,
 "nbformat_minor": 5
}
